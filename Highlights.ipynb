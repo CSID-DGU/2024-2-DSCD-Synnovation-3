{
 "cells": [
  {
   "cell_type": "code",
   "execution_count": 3,
   "metadata": {},
   "outputs": [],
   "source": [
    "import os\n",
    "import numpy as np\n",
    "import pandas as pd\n",
    "# import matplotlib.pyplot as plt\n",
    "\n",
    "from sentence_transformers import SentenceTransformer\n",
    "\n",
    "from langchain_community.document_loaders import PyPDFLoader # 1.로드\n",
    "from langchain_community.document_loaders import TextLoader\n",
    "from langchain.text_splitter import RecursiveCharacterTextSplitter # 2.청크\n",
    "from langchain.embeddings import HuggingFaceEmbeddings # 3. 임베딩 모델\n",
    "from langchain.vectorstores import FAISS # 3. 벡터 저장\n",
    "from langchain.retrievers import BM25Retriever, EnsembleRetriever # 4. 검색 기법\n",
    "from langchain_ollama import ChatOllama\n",
    "from langchain.prompts import ChatPromptTemplate\n",
    "\n",
    "from transformers import pipeline\n",
    "\n",
    "from langchain import hub\n",
    "from langchain_core.prompts import ChatPromptTemplate\n",
    "from langchain.chains import create_retrieval_chain\n",
    "from langchain.chains.combine_documents import create_stuff_documents_chain\n",
    "\n",
    "# 1. 문서 로드 및 청크 분할\n",
    "loader = PyPDFLoader(\"한화생명 간편가입 시그니처 암보험(갱신형) 무배당_2055-001_002_약관_20220601_(2).pdf\")\n",
    "documents = loader.load()\n",
    "\n",
    "text_splitter = RecursiveCharacterTextSplitter(\n",
    "    chunk_size=500,\n",
    "    chunk_overlap=30\n",
    ")\n",
    "chunks = text_splitter.split_documents(documents)\n",
    "chunks = chunks[11:]  # 불필요한 청크 제외 (예: 목차)\n",
    "\n",
    "# 각 청크에 ID 부여\n",
    "for i, chunk in enumerate(chunks):\n",
    "    chunk.metadata['doc_id'] = i\n",
    "\n",
    "# 2. HuggingFace 임베딩 및 FAISS 생성\n",
    "embedding = HuggingFaceEmbeddings(model_name=\"BAAI/bge-m3\")\n",
    "vectorstore = FAISS.from_documents(documents=chunks, embedding=embedding)\n",
    "\n",
    "# 3. 키워드 검색을 위한 BM25 생성\n",
    "bm25_retriever = BM25Retriever.from_documents(chunks)\n",
    "bm25_retriever.k = 3\n",
    "\n",
    "# 4. 의미 검색 + 키워드 검색 (앙상블)\n",
    "top_k = 3\n",
    "retriever = vectorstore.as_retriever(search_type=\"similarity\", search_kwargs={\"k\": top_k})\n",
    "ensemble_retrievers = [retriever, bm25_retriever]\n",
    "ensemble_retriever = EnsembleRetriever(retrievers=ensemble_retrievers, weights=[0.7, 0.3])\n",
    "\n",
    "# 5. LLM 초기화 및 RAG 체인 구성\n",
    "llm = ChatOllama(model=\"llama3.1\", temperature=0.8, num_predict=300)\n",
    "\n",
    "retrieval_qa_chat_prompt = ChatPromptTemplate.from_template(\"\"\"\n",
    "다음 컨텍스트를 바탕으로 질문에 답변해주세요. 컨텍스트에 관련 정보가 없다면,\n",
    "\"주어진 정보로는 답변할 수 없습니다.\"라고 말씀해 주세요.\n",
    "\n",
    "컨텍스트: {context}\n",
    "\n",
    "질문: {input}\n",
    "\n",
    "답변:\n",
    "\"\"\")\n",
    "\n",
    "combine_docs_chain = create_stuff_documents_chain(llm, retrieval_qa_chat_prompt)\n",
    "rag_chain = create_retrieval_chain(ensemble_retriever, combine_docs_chain)"
   ]
  },
  {
   "cell_type": "code",
   "execution_count": 7,
   "metadata": {},
   "outputs": [
    {
     "name": "stdout",
     "output_type": "stream",
     "text": [
      "{'input': '보험금 지급이 제한될 수 있는 경우는 뭐가 있어?', 'context': [Document(metadata={'source': '한화생명 간편가입 시그니처 암보험(갱신형) 무배당_2055-001_002_약관_20220601_(2).pdf', 'page': 473, 'doc_id': 1678}, page_content='을 지급합니다 .  \\n【할증위험률】  \\n피보험자의  건강상태가  회사가  정한 기준에  적합하지  않은 경우 일반위험률보다  높게 적용되\\n는 위험률  \\n \\n2. 보험금감액법   \\n계약일로부터  회사가  정하는  삭감기간 (削減期間 ) 내에 피보험자에게  재해 이외의  원인으로  해당계\\n약의 삭감대상  보험금  지급사유가  발생한  경우에는  해당계약의  규정에도  불구하고  계약할 때 정\\n한 삭감기간  및 보험금지급비율 에 따라 다음과  같이 보험금을  지급합니다 . 삭감기간이  경과한  이'), Document(metadata={'source': '한화생명 간편가입 시그니처 암보험(갱신형) 무배당_2055-001_002_약관_20220601_(2).pdf', 'page': 156, 'doc_id': 513}, page_content='157 / 532 ⑤ 보험수익 자와 회사가  제2-3조(보험금의  지급사유 )에 대해 합의하지  못할 때는 보험수익자와  회사가  \\n함께 제3자를 정하고  그 제3자의 의견에  따를 수 있습니다 . 제3자는 의료법  제3조(의료기관 )에 규정한  \\n종합병원  소속 전문의  중에서  정하며 , 보험금  지급 사유 판정에  드는 의료비용은  회사가  전액 부담합니\\n다. \\n \\n제 2-6 조 장해지급률에  관한 세부규정  \\n이 특약은  해당사항이  없습니다 . \\n \\n제 2-7 조 보험금을  지급하지  않는 사유 \\n회사는  다음 중 어느 한 가지로  보험금  지급사유가  발생한  때에는  보험금을  지급하지  않습니다 . \\n1. 피보험자가  고의로  자신을  해친 경우 \\n다만, 피보험자가  심신상실  등으로  자유로운  의사결정을  할 수 없는 상태에서  자신을  해침으로  인\\n하여 보험금  지급사유가  발생한  때에는  보험금을  지급하여  드립니다 .'), Document(metadata={'source': '한화생명 간편가입 시그니처 암보험(갱신형) 무배당_2055-001_002_약관_20220601_(2).pdf', 'page': 97, 'doc_id': 303}, page_content='98 / 532 ⑤ 보험수익자와  회사가  제2-3조(보험금의  지급사 유)에 대해 합의하지  못할 때는 보험수익자와  회사가  \\n함께 제3자를 정하고  그 제3자의 의견에  따를 수 있습니다 . 제3자는 의료법  제3조(의료기관 )에 규정한  \\n종합병원  소속 전문의  중에서  정하며 , 보험금  지급 사유 판정에 드는 의료비용은  회사가  전액 부담합니\\n다.  \\n \\n제 2-6 조 장해지급률에  관한 세부규정  \\n이 특약은  해당사항이  없습니다 . \\n \\n제 2-7 조 보험금을  지급하지  않는 사유 \\n회사는  다음 중 한 가지로  보험금  지급사유가  발생한  때에는  보험금을  지급하지  않습니다 . \\n1. 피보험자 가 고의로  자신을  해친 경우 \\n다만, 피보험자가  심신상실  등으로  자유로운  의사결정을  할 수 없는 상태에서  자신을  해침으로  인\\n하여 보험금  지급사유가  발생한  때에는  보험금을  지급하여  드립니다 .')], 'answer': '보험금을 지급하지 않는 사유는 다음과 같습니다.\\n1. 피보험자가 고의로 자신을 해친 경우\\n다만, 피보험자가 심신상실 등으로 자유로운 의사결정을 할 수 없는 상태에서 자신을 해침으로 인하여 보험금 지급사유가 발생한 때에는 보험금을 지급하겠습니다.'}\n"
     ]
    }
   ],
   "source": [
    "# 체인 생성\n",
    "combine_docs_chain = create_stuff_documents_chain(llm, retrieval_qa_chat_prompt)\n",
    "rag_chain = create_retrieval_chain(retriever, combine_docs_chain)\n",
    "\n",
    "# 체인 실행\n",
    "query = \"보험금 지급이 제한될 수 있는 경우는 뭐가 있어?\"\n",
    "response = rag_chain.invoke({\"input\": query})\n",
    "print(response)"
   ]
  },
  {
   "cell_type": "code",
   "execution_count": 11,
   "metadata": {},
   "outputs": [
    {
     "name": "stdout",
     "output_type": "stream",
     "text": [
      "RAG 체인의 타입: <class 'langchain_core.runnables.base.RunnableBinding'>\n"
     ]
    }
   ],
   "source": [
    "# 체인 타입 확인\n",
    "print(f\"RAG 체인의 타입: {type(rag_chain)}\")"
   ]
  },
  {
   "cell_type": "code",
   "execution_count": 16,
   "metadata": {},
   "outputs": [
    {
     "name": "stderr",
     "output_type": "stream",
     "text": [
      "/home/jonghai/.local/lib/python3.10/site-packages/gradio/components/chatbot.py:223: UserWarning: You have not specified a value for the `type` parameter. Defaulting to the 'tuples' format for chatbot messages, but this is deprecated and will be removed in a future version of Gradio. Please set type='messages' instead, which uses openai-style 'role' and 'content' keys.\n",
      "  warnings.warn(\n"
     ]
    },
    {
     "name": "stdout",
     "output_type": "stream",
     "text": [
      "* Running on local URL:  http://127.0.0.1:7867\n",
      "* Running on public URL: https://8f3831aed6b6ddca4d.gradio.live\n",
      "\n",
      "This share link expires in 72 hours. For free permanent hosting and GPU upgrades, run `gradio deploy` from the terminal in the working directory to deploy to Hugging Face Spaces (https://huggingface.co/spaces)\n"
     ]
    },
    {
     "data": {
      "text/html": [
       "<div><iframe src=\"https://8f3831aed6b6ddca4d.gradio.live\" width=\"100%\" height=\"500\" allow=\"autoplay; camera; microphone; clipboard-read; clipboard-write;\" frameborder=\"0\" allowfullscreen></iframe></div>"
      ],
      "text/plain": [
       "<IPython.core.display.HTML object>"
      ]
     },
     "metadata": {},
     "output_type": "display_data"
    },
    {
     "name": "stdout",
     "output_type": "stream",
     "text": [
      "질문: 보험금 지급이 제한될 수 있는 경우는 뭐가 있어?\n",
      "RAG 체인 결과: {'input': '보험금 지급이 제한될 수 있는 경우는 뭐가 있어?', 'context': [Document(metadata={'source': '한화생명 간편가입 시그니처 암보험(갱신형) 무배당_2055-001_002_약관_20220601_(2).pdf', 'page': 473, 'doc_id': 1678}, page_content='을 지급합니다 .  \\n【할증위험률】  \\n피보험자의  건강상태가  회사가  정한 기준에  적합하지  않은 경우 일반위험률보다  높게 적용되\\n는 위험률  \\n \\n2. 보험금감액법   \\n계약일로부터  회사가  정하는  삭감기간 (削減期間 ) 내에 피보험자에게  재해 이외의  원인으로  해당계\\n약의 삭감대상  보험금  지급사유가  발생한  경우에는  해당계약의  규정에도  불구하고  계약할 때 정\\n한 삭감기간  및 보험금지급비율 에 따라 다음과  같이 보험금을  지급합니다 . 삭감기간이  경과한  이'), Document(metadata={'source': '한화생명 간편가입 시그니처 암보험(갱신형) 무배당_2055-001_002_약관_20220601_(2).pdf', 'page': 156, 'doc_id': 513}, page_content='157 / 532 ⑤ 보험수익 자와 회사가  제2-3조(보험금의  지급사유 )에 대해 합의하지  못할 때는 보험수익자와  회사가  \\n함께 제3자를 정하고  그 제3자의 의견에  따를 수 있습니다 . 제3자는 의료법  제3조(의료기관 )에 규정한  \\n종합병원  소속 전문의  중에서  정하며 , 보험금  지급 사유 판정에  드는 의료비용은  회사가  전액 부담합니\\n다. \\n \\n제 2-6 조 장해지급률에  관한 세부규정  \\n이 특약은  해당사항이  없습니다 . \\n \\n제 2-7 조 보험금을  지급하지  않는 사유 \\n회사는  다음 중 어느 한 가지로  보험금  지급사유가  발생한  때에는  보험금을  지급하지  않습니다 . \\n1. 피보험자가  고의로  자신을  해친 경우 \\n다만, 피보험자가  심신상실  등으로  자유로운  의사결정을  할 수 없는 상태에서  자신을  해침으로  인\\n하여 보험금  지급사유가  발생한  때에는  보험금을  지급하여  드립니다 .'), Document(metadata={'source': '한화생명 간편가입 시그니처 암보험(갱신형) 무배당_2055-001_002_약관_20220601_(2).pdf', 'page': 97, 'doc_id': 303}, page_content='98 / 532 ⑤ 보험수익자와  회사가  제2-3조(보험금의  지급사 유)에 대해 합의하지  못할 때는 보험수익자와  회사가  \\n함께 제3자를 정하고  그 제3자의 의견에  따를 수 있습니다 . 제3자는 의료법  제3조(의료기관 )에 규정한  \\n종합병원  소속 전문의  중에서  정하며 , 보험금  지급 사유 판정에 드는 의료비용은  회사가  전액 부담합니\\n다.  \\n \\n제 2-6 조 장해지급률에  관한 세부규정  \\n이 특약은  해당사항이  없습니다 . \\n \\n제 2-7 조 보험금을  지급하지  않는 사유 \\n회사는  다음 중 한 가지로  보험금  지급사유가  발생한  때에는  보험금을  지급하지  않습니다 . \\n1. 피보험자 가 고의로  자신을  해친 경우 \\n다만, 피보험자가  심신상실  등으로  자유로운  의사결정을  할 수 없는 상태에서  자신을  해침으로  인\\n하여 보험금  지급사유가  발생한  때에는  보험금을  지급하여  드립니다 .')], 'answer': '보험금 지급이 제한될 수 있는 경우는 다음과 같습니다.\\n\\n1. 피보험자가 고의로 자신을 해친 경우\\n2. 피보험자가 심신상실 등으로 자유로운 의사결정을 할 수 없는 상태에서 자신을 해침으로 인하여 보험금 지급사유가 발생한 경우에는 보증금을 지급하지 않습니다.'}\n",
      "Keyboard interruption in main thread... closing server.\n",
      "Killing tunnel 127.0.0.1:7867 <> https://8f3831aed6b6ddca4d.gradio.live\n"
     ]
    },
    {
     "data": {
      "text/plain": []
     },
     "execution_count": 16,
     "metadata": {},
     "output_type": "execute_result"
    }
   ],
   "source": [
    "import gradio as gr\n",
    "\n",
    "# 질문 제출 처리\n",
    "def submit_question(question, chat_history):\n",
    "    try:\n",
    "        print(f\"질문: {question}\")  # 디버깅: 입력된 질문 확인\n",
    "\n",
    "        # RAG 체인 실행\n",
    "        result = rag_chain.invoke({\"input\": question})  # 최신 LangChain에서는 .invoke() 사용\n",
    "        print(f\"RAG 체인 결과: {result}\")  # 디버깅: 체인 실행 결과 확인\n",
    "\n",
    "        # 컨텍스트 텍스트 추출\n",
    "        context_docs = result.get(\"context\", [])\n",
    "        context_texts = [doc.page_content for doc in context_docs]  # 텍스트 추출\n",
    "\n",
    "        # 답변 생성\n",
    "        answer = result.get(\"answer\", \"답변을 생성할 수 없습니다.\")\n",
    "\n",
    "        # 하이라이트 추가\n",
    "        highlight_parts = [\n",
    "            (context, question) for context in context_texts if question in context\n",
    "        ]\n",
    "        chat_history.append((question, answer))  # 챗봇 대화 기록 업데이트\n",
    "        return chat_history, \"\", highlight_parts\n",
    "    except Exception as e:\n",
    "        print(f\"오류 발생: {e}\")  # 디버깅: 터미널에 오류 출력\n",
    "        return chat_history, f\"오류 발생: {e}\", []\n",
    "\n",
    "# Gradio UI 구성\n",
    "with gr.Blocks() as iface:\n",
    "    gr.Markdown(\"# 보험 문서 챗봇\\n보험 문서에 대해 물어보면 답하는 챗봇입니다.\")\n",
    "\n",
    "    # 챗봇 UI 및 입력 필드\n",
    "    chatbot = gr.Chatbot()\n",
    "    msg = gr.Textbox(placeholder=\"질문을 입력하세요.\", label=\"질문 입력\")\n",
    "    highlighted_text = gr.HighlightedText(label=\"관련 문서 하이라이트\", show_legend=True)\n",
    "\n",
    "    # 버튼 구성\n",
    "    with gr.Row():\n",
    "        submit_btn = gr.Button(\"보내기\")\n",
    "        clear_btn = gr.Button(\"전체 채팅 삭제 💫\")\n",
    "\n",
    "    # 버튼 이벤트 연결\n",
    "    submit_btn.click(\n",
    "        submit_question, \n",
    "        inputs=[msg, chatbot], \n",
    "        outputs=[chatbot, msg, highlighted_text]\n",
    "    )\n",
    "    clear_btn.click(lambda: ([], \"\"), None, chatbot)  # 전체 대화 기록 삭제\n",
    "\n",
    "iface.launch(share=True, debug=True)"
   ]
  },
  {
   "cell_type": "code",
   "execution_count": null,
   "metadata": {},
   "outputs": [
    {
     "name": "stderr",
     "output_type": "stream",
     "text": [
      "/home/jonghai/.local/lib/python3.10/site-packages/gradio/components/chatbot.py:223: UserWarning: You have not specified a value for the `type` parameter. Defaulting to the 'tuples' format for chatbot messages, but this is deprecated and will be removed in a future version of Gradio. Please set type='messages' instead, which uses openai-style 'role' and 'content' keys.\n",
      "  warnings.warn(\n"
     ]
    },
    {
     "name": "stdout",
     "output_type": "stream",
     "text": [
      "* Running on local URL:  http://127.0.0.1:7867\n",
      "* Running on public URL: https://feccf7087f41d3e342.gradio.live\n",
      "\n",
      "This share link expires in 72 hours. For free permanent hosting and GPU upgrades, run `gradio deploy` from the terminal in the working directory to deploy to Hugging Face Spaces (https://huggingface.co/spaces)\n"
     ]
    },
    {
     "data": {
      "text/html": [
       "<div><iframe src=\"https://feccf7087f41d3e342.gradio.live\" width=\"100%\" height=\"500\" allow=\"autoplay; camera; microphone; clipboard-read; clipboard-write;\" frameborder=\"0\" allowfullscreen></iframe></div>"
      ],
      "text/plain": [
       "<IPython.core.display.HTML object>"
      ]
     },
     "metadata": {},
     "output_type": "display_data"
    },
    {
     "name": "stdout",
     "output_type": "stream",
     "text": [
      "질문: 보험금 지급이 제한될 수 있는 경우는 뭐가 있어?\n",
      "RAG 체인 결과: {'input': '보험금 지급이 제한될 수 있는 경우는 뭐가 있어?', 'context': [Document(metadata={'source': '한화생명 간편가입 시그니처 암보험(갱신형) 무배당_2055-001_002_약관_20220601_(2).pdf', 'page': 473, 'doc_id': 1678}, page_content='을 지급합니다 .  \\n【할증위험률】  \\n피보험자의  건강상태가  회사가  정한 기준에  적합하지  않은 경우 일반위험률보다  높게 적용되\\n는 위험률  \\n \\n2. 보험금감액법   \\n계약일로부터  회사가  정하는  삭감기간 (削減期間 ) 내에 피보험자에게  재해 이외의  원인으로  해당계\\n약의 삭감대상  보험금  지급사유가  발생한  경우에는  해당계약의  규정에도  불구하고  계약할 때 정\\n한 삭감기간  및 보험금지급비율 에 따라 다음과  같이 보험금을  지급합니다 . 삭감기간이  경과한  이'), Document(metadata={'source': '한화생명 간편가입 시그니처 암보험(갱신형) 무배당_2055-001_002_약관_20220601_(2).pdf', 'page': 156, 'doc_id': 513}, page_content='157 / 532 ⑤ 보험수익 자와 회사가  제2-3조(보험금의  지급사유 )에 대해 합의하지  못할 때는 보험수익자와  회사가  \\n함께 제3자를 정하고  그 제3자의 의견에  따를 수 있습니다 . 제3자는 의료법  제3조(의료기관 )에 규정한  \\n종합병원  소속 전문의  중에서  정하며 , 보험금  지급 사유 판정에  드는 의료비용은  회사가  전액 부담합니\\n다. \\n \\n제 2-6 조 장해지급률에  관한 세부규정  \\n이 특약은  해당사항이  없습니다 . \\n \\n제 2-7 조 보험금을  지급하지  않는 사유 \\n회사는  다음 중 어느 한 가지로  보험금  지급사유가  발생한  때에는  보험금을  지급하지  않습니다 . \\n1. 피보험자가  고의로  자신을  해친 경우 \\n다만, 피보험자가  심신상실  등으로  자유로운  의사결정을  할 수 없는 상태에서  자신을  해침으로  인\\n하여 보험금  지급사유가  발생한  때에는  보험금을  지급하여  드립니다 .'), Document(metadata={'source': '한화생명 간편가입 시그니처 암보험(갱신형) 무배당_2055-001_002_약관_20220601_(2).pdf', 'page': 97, 'doc_id': 303}, page_content='98 / 532 ⑤ 보험수익자와  회사가  제2-3조(보험금의  지급사 유)에 대해 합의하지  못할 때는 보험수익자와  회사가  \\n함께 제3자를 정하고  그 제3자의 의견에  따를 수 있습니다 . 제3자는 의료법  제3조(의료기관 )에 규정한  \\n종합병원  소속 전문의  중에서  정하며 , 보험금  지급 사유 판정에 드는 의료비용은  회사가  전액 부담합니\\n다.  \\n \\n제 2-6 조 장해지급률에  관한 세부규정  \\n이 특약은  해당사항이  없습니다 . \\n \\n제 2-7 조 보험금을  지급하지  않는 사유 \\n회사는  다음 중 한 가지로  보험금  지급사유가  발생한  때에는  보험금을  지급하지  않습니다 . \\n1. 피보험자 가 고의로  자신을  해친 경우 \\n다만, 피보험자가  심신상실  등으로  자유로운  의사결정을  할 수 없는 상태에서  자신을  해침으로  인\\n하여 보험금  지급사유가  발생한  때에는  보험금을  지급하여  드립니다 .')], 'answer': '1. 피보험자가 고의로 자신을 해친 경우 \\n\\n다만, 피보험자가 심신상실 등으로 자유로운 의사결정을 할 수 없는 상태에서 자신을 해침으로 인하여 보험금 지급사유가 발생한 때에는 보험금을 지급하여 드립니다.\\n\\n2. 보험금감액법 (계약일로부터 회사 정하는 삭감기간 내에 피보험자에게 재해 이외의 원인으로 해당계약의 삭감대상 보험금 지급사유가 발생한 경우입니다.)'}\n"
     ]
    }
   ],
   "source": [
    "import gradio as gr\n",
    "def submit_question(question, chat_history):\n",
    "    try:\n",
    "        print(f\"질문: {question}\")  # 디버깅\n",
    "\n",
    "        # RAG 체인 실행\n",
    "        result = rag_chain.invoke({\"input\": question})  # .invoke() 사용\n",
    "        print(f\"RAG 체인 결과: {result}\")  # 디버깅\n",
    "\n",
    "        # context는 Document 객체들의 리스트입니다.\n",
    "        context_docs = result.get(\"context\", [])\n",
    "        answer = result.get(\"answer\", \"답변을 생성할 수 없습니다.\")\n",
    "\n",
    "        # 하이라이트 데이터를 생성할 리스트\n",
    "        highlight_parts = []\n",
    "\n",
    "        # 각 Document에서 페이지 내용과 메타데이터를 확인\n",
    "        for doc in context_docs:\n",
    "            page_text = doc.page_content\n",
    "            source = doc.metadata.get(\"source\", \"알 수 없음\")\n",
    "            page = doc.metadata.get(\"page\", \"알 수 없음\")\n",
    "\n",
    "            # 답변에 해당하는 부분 하이라이트\n",
    "            if answer in page_text:\n",
    "                highlight_parts.append((page_text, answer))  # 답변 부분 하이라이트\n",
    "            else:\n",
    "                highlight_parts.append((page_text, \"\"))  # 하이라이트 없음\n",
    "\n",
    "        # 대화 기록에 답변 추가\n",
    "        chat_history.append((question, answer))\n",
    "        return chat_history, \"\", highlight_parts\n",
    "\n",
    "    except Exception as e:\n",
    "        print(f\"오류 발생: {e}\")  # 디버깅\n",
    "        import traceback\n",
    "        traceback.print_exc()\n",
    "        return chat_history, f\"오류 발생: {e}\", []\n",
    "\n",
    "# Gradio UI 구성\n",
    "with gr.Blocks() as iface:\n",
    "    gr.Markdown(\"# 보험 문서 챗봇\\n보험 문서에 대해 물어보면 답하는 챗봇입니다.\")\n",
    "\n",
    "    # 챗봇 UI 및 입력 필드\n",
    "    chatbot = gr.Chatbot()\n",
    "    msg = gr.Textbox(placeholder=\"질문을 입력하세요.\", label=\"질문 입력\")\n",
    "    highlighted_text = gr.HighlightedText(label=\"관련 문서 하이라이트\", show_legend=True)\n",
    "\n",
    "    # 버튼 구성\n",
    "    with gr.Row():\n",
    "        submit_btn = gr.Button(\"보내기\")\n",
    "        clear_btn = gr.Button(\"전체 채팅 삭제 💫\")\n",
    "\n",
    "    # 버튼 이벤트 연결\n",
    "    submit_btn.click(\n",
    "        submit_question, \n",
    "        inputs=[msg, chatbot], \n",
    "        outputs=[chatbot, msg, highlighted_text]\n",
    "    )\n",
    "    clear_btn.click(lambda: ([], \"\"), None, chatbot)  # 전체 대화 기록 삭제\n",
    "\n",
    "iface.launch(share=True, debug=True)"
   ]
  },
  {
   "cell_type": "code",
   "execution_count": null,
   "metadata": {},
   "outputs": [],
   "source": []
  },
  {
   "cell_type": "code",
   "execution_count": null,
   "metadata": {},
   "outputs": [],
   "source": []
  },
  {
   "cell_type": "code",
   "execution_count": 14,
   "metadata": {},
   "outputs": [
    {
     "name": "stderr",
     "output_type": "stream",
     "text": [
      "/home/jonghai/.local/lib/python3.10/site-packages/gradio/components/chatbot.py:223: UserWarning: You have not specified a value for the `type` parameter. Defaulting to the 'tuples' format for chatbot messages, but this is deprecated and will be removed in a future version of Gradio. Please set type='messages' instead, which uses openai-style 'role' and 'content' keys.\n",
      "  warnings.warn(\n"
     ]
    },
    {
     "name": "stdout",
     "output_type": "stream",
     "text": [
      "* Running on local URL:  http://127.0.0.1:7867\n",
      "* Running on public URL: https://a23e544897b7bc2ee2.gradio.live\n",
      "\n",
      "This share link expires in 72 hours. For free permanent hosting and GPU upgrades, run `gradio deploy` from the terminal in the working directory to deploy to Hugging Face Spaces (https://huggingface.co/spaces)\n"
     ]
    },
    {
     "data": {
      "text/html": [
       "<div><iframe src=\"https://a23e544897b7bc2ee2.gradio.live\" width=\"100%\" height=\"500\" allow=\"autoplay; camera; microphone; clipboard-read; clipboard-write;\" frameborder=\"0\" allowfullscreen></iframe></div>"
      ],
      "text/plain": [
       "<IPython.core.display.HTML object>"
      ]
     },
     "metadata": {},
     "output_type": "display_data"
    },
    {
     "name": "stdout",
     "output_type": "stream",
     "text": [
      "질문: 보험금 지급이 제한될 수 있는 경우는 뭐가 있어?\n",
      "rag_chain 호출 전\n",
      "rag_chain 호출 결과: {'input': '보험금 지급이 제한될 수 있는 경우는 뭐가 있어?', 'context': [Document(metadata={'source': '한화생명 간편가입 시그니처 암보험(갱신형) 무배당_2055-001_002_약관_20220601_(2).pdf', 'page': 473, 'doc_id': 1678}, page_content='을 지급합니다 .  \\n【할증위험률】  \\n피보험자의  건강상태가  회사가  정한 기준에  적합하지  않은 경우 일반위험률보다  높게 적용되\\n는 위험률  \\n \\n2. 보험금감액법   \\n계약일로부터  회사가  정하는  삭감기간 (削減期間 ) 내에 피보험자에게  재해 이외의  원인으로  해당계\\n약의 삭감대상  보험금  지급사유가  발생한  경우에는  해당계약의  규정에도  불구하고  계약할 때 정\\n한 삭감기간  및 보험금지급비율 에 따라 다음과  같이 보험금을  지급합니다 . 삭감기간이  경과한  이'), Document(metadata={'source': '한화생명 간편가입 시그니처 암보험(갱신형) 무배당_2055-001_002_약관_20220601_(2).pdf', 'page': 156, 'doc_id': 513}, page_content='157 / 532 ⑤ 보험수익 자와 회사가  제2-3조(보험금의  지급사유 )에 대해 합의하지  못할 때는 보험수익자와  회사가  \\n함께 제3자를 정하고  그 제3자의 의견에  따를 수 있습니다 . 제3자는 의료법  제3조(의료기관 )에 규정한  \\n종합병원  소속 전문의  중에서  정하며 , 보험금  지급 사유 판정에  드는 의료비용은  회사가  전액 부담합니\\n다. \\n \\n제 2-6 조 장해지급률에  관한 세부규정  \\n이 특약은  해당사항이  없습니다 . \\n \\n제 2-7 조 보험금을  지급하지  않는 사유 \\n회사는  다음 중 어느 한 가지로  보험금  지급사유가  발생한  때에는  보험금을  지급하지  않습니다 . \\n1. 피보험자가  고의로  자신을  해친 경우 \\n다만, 피보험자가  심신상실  등으로  자유로운  의사결정을  할 수 없는 상태에서  자신을  해침으로  인\\n하여 보험금  지급사유가  발생한  때에는  보험금을  지급하여  드립니다 .'), Document(metadata={'source': '한화생명 간편가입 시그니처 암보험(갱신형) 무배당_2055-001_002_약관_20220601_(2).pdf', 'page': 97, 'doc_id': 303}, page_content='98 / 532 ⑤ 보험수익자와  회사가  제2-3조(보험금의  지급사 유)에 대해 합의하지  못할 때는 보험수익자와  회사가  \\n함께 제3자를 정하고  그 제3자의 의견에  따를 수 있습니다 . 제3자는 의료법  제3조(의료기관 )에 규정한  \\n종합병원  소속 전문의  중에서  정하며 , 보험금  지급 사유 판정에 드는 의료비용은  회사가  전액 부담합니\\n다.  \\n \\n제 2-6 조 장해지급률에  관한 세부규정  \\n이 특약은  해당사항이  없습니다 . \\n \\n제 2-7 조 보험금을  지급하지  않는 사유 \\n회사는  다음 중 한 가지로  보험금  지급사유가  발생한  때에는  보험금을  지급하지  않습니다 . \\n1. 피보험자 가 고의로  자신을  해친 경우 \\n다만, 피보험자가  심신상실  등으로  자유로운  의사결정을  할 수 없는 상태에서  자신을  해침으로  인\\n하여 보험금  지급사유가  발생한  때에는  보험금을  지급하여  드립니다 .')], 'answer': '보험금의 삭감대상, 장해지급률에 관한 세부규정, 보험금 지급하지 않는 사유, 피보험자가 고의로 자신을 해친 경우가 있습니다.'}\n"
     ]
    },
    {
     "name": "stderr",
     "output_type": "stream",
     "text": [
      "Traceback (most recent call last):\n",
      "  File \"/home/jonghai/.local/lib/python3.10/site-packages/gradio/queueing.py\", line 624, in process_events\n",
      "    response = await route_utils.call_process_api(\n",
      "  File \"/home/jonghai/.local/lib/python3.10/site-packages/gradio/route_utils.py\", line 323, in call_process_api\n",
      "    output = await app.get_blocks().process_api(\n",
      "  File \"/home/jonghai/.local/lib/python3.10/site-packages/gradio/blocks.py\", line 2028, in process_api\n",
      "    data = await self.postprocess_data(block_fn, result[\"prediction\"], state)\n",
      "  File \"/home/jonghai/.local/lib/python3.10/site-packages/gradio/blocks.py\", line 1834, in postprocess_data\n",
      "    prediction_value = block.postprocess(prediction_value)\n",
      "  File \"/home/jonghai/.local/lib/python3.10/site-packages/gradio/components/highlighted_text.py\", line 191, in postprocess\n",
      "    root=[\n",
      "  File \"/home/jonghai/.local/lib/python3.10/site-packages/gradio/components/highlighted_text.py\", line 192, in <listcomp>\n",
      "    HighlightedToken(token=o[0], class_or_confidence=o[1])\n",
      "  File \"/home/jonghai/.local/lib/python3.10/site-packages/pydantic/main.py\", line 212, in __init__\n",
      "    validated_self = self.__pydantic_validator__.validate_python(data, self_instance=self)\n",
      "pydantic_core._pydantic_core.ValidationError: 1 validation error for HighlightedToken\n",
      "token\n",
      "  Input should be a valid string [type=string_type, input_value=[Document(metadata={'sour...여  드립니다 .')], input_type=list]\n",
      "    For further information visit https://errors.pydantic.dev/2.9/v/string_type\n"
     ]
    },
    {
     "name": "stdout",
     "output_type": "stream",
     "text": [
      "Keyboard interruption in main thread... closing server.\n",
      "Killing tunnel 127.0.0.1:7860 <> https://ba1b83142ed72c9132.gradio.live\n",
      "Killing tunnel 127.0.0.1:7861 <> https://f83e56335d5b0579ce.gradio.live\n",
      "Killing tunnel 127.0.0.1:7862 <> https://7eedc87843b1fa4eb5.gradio.live\n",
      "Killing tunnel 127.0.0.1:7863 <> https://8644b5ba8ffe4537df.gradio.live\n",
      "Killing tunnel 127.0.0.1:7864 <> https://6455afb5343d4e7862.gradio.live\n",
      "Killing tunnel 127.0.0.1:7865 <> https://72892aa7d822533a85.gradio.live\n",
      "Killing tunnel 127.0.0.1:7866 <> https://0fe5f79a4548044007.gradio.live\n",
      "Killing tunnel 127.0.0.1:7867 <> https://a23e544897b7bc2ee2.gradio.live\n"
     ]
    },
    {
     "data": {
      "text/plain": []
     },
     "execution_count": 14,
     "metadata": {},
     "output_type": "execute_result"
    }
   ],
   "source": [
    "import gradio as gr\n",
    "# Gradio UI 구성\n",
    "with gr.Blocks() as iface:\n",
    "    # 제목 및 설명\n",
    "    gr.Markdown(\"# 보험 문서 챗봇\\n보험 문서에 대해 물어보면 답하는 챗봇입니다.\")\n",
    "\n",
    "    # PDF 버튼 및 챗봇 UI\n",
    "    with gr.Row():\n",
    "        cancer_btn = gr.Button(\"생명보험\")\n",
    "        life_btn = gr.Button(\"손해보험\")\n",
    "        car_btn = gr.Button(\"자동차보험\")\n",
    "        glossary_btn = gr.Button(\"용어사전\")\n",
    "\n",
    "    chatbot = gr.Chatbot()\n",
    "    msg = gr.Textbox(placeholder=\"뭐든지 물어보세요.\", label=\"챗 입력\")\n",
    "    highlighted_text = gr.HighlightedText(label=\"문서 하이라이트\", show_legend=True)\n",
    "\n",
    "    # 버튼 행\n",
    "    with gr.Row():\n",
    "        submit_btn = gr.Button(\"보내기\")\n",
    "        retry_btn = gr.Button(\"다시보내기 ↩\")\n",
    "        undo_btn = gr.Button(\"이전 채팅 삭제 ❌\")\n",
    "        clear_btn = gr.Button(\"전체 채팅 삭제 💫\")\n",
    "\n",
    "    # 버튼 클릭 이벤트 설정\n",
    "    def update_chatbot_with_message(chat_history, sender, message):\n",
    "        chat_history.append((sender, message))  # 지정된 발신자와 메시지 추가\n",
    "        return chat_history\n",
    "\n",
    "    cancer_btn.click(\n",
    "        lambda chat_history: update_chatbot_with_message(chat_history, \"생명보험\", \"생명보험 관련 정보를 물어보세요.\"),\n",
    "        inputs=chatbot,\n",
    "        outputs=chatbot\n",
    "    )\n",
    "    life_btn.click(\n",
    "        lambda chat_history: update_chatbot_with_message(chat_history, \"손해보험\", \"손해보험 관련 정보를 물어보세요.\"),\n",
    "        inputs=chatbot,\n",
    "        outputs=chatbot\n",
    "    )\n",
    "    car_btn.click(\n",
    "        lambda chat_history: update_chatbot_with_message(chat_history, \"자동차보험\", \"자동차보험 관련 정보를 물어보세요.\"),\n",
    "        inputs=chatbot,\n",
    "        outputs=chatbot\n",
    "    )\n",
    "    glossary_btn.click(\n",
    "        lambda chat_history: update_chatbot_with_message(\n",
    "            chat_history,\n",
    "            \"용어사전\",\n",
    "            (\n",
    "                \"용어사전에 대한 정보는 다음 링크를 참조하세요:\\n\"\n",
    "                \"- [보험 용어사전 1](https://www.hwgeneralins.com/lounge/dic/index.do)\\n\"\n",
    "                \"- [보험 용어사전 2](https://m.blog.naver.com/blogfsc/220149083103)\"\n",
    "            )\n",
    "        ),\n",
    "        inputs=chatbot,\n",
    "        outputs=chatbot\n",
    "    )\n",
    "\n",
    "    # 질문 제출 처리\n",
    "    # 질문 제출 처리\n",
    "    def submit_question(question, chat_history):\n",
    "        try:\n",
    "            print(f\"질문: {question}\")  # 입력된 질문 확인\n",
    "\n",
    "            # RAG 체인 실행\n",
    "            print(\"rag_chain 호출 전\")\n",
    "            result = rag_chain.invoke({\"input\": question})  # .invoke() 호출\n",
    "            print(f\"rag_chain 호출 결과: {result}\")\n",
    "\n",
    "            context = result.get(\"context\", \"\")\n",
    "            answer = result.get(\"answer\", \"답변을 생성할 수 없습니다.\")\n",
    "\n",
    "            # 하이라이트 추가\n",
    "            highlight_parts = [(context, question)] if question in context else [(context, \"\")]\n",
    "            chat_history.append((question, answer))\n",
    "            return chat_history, \"\", highlight_parts\n",
    "        except Exception as e:\n",
    "            # 구체적인 에러 메시지 출력\n",
    "            import traceback\n",
    "            traceback.print_exc()  # 전체 에러 스택 추적 로그 출력\n",
    "            print(f\"오류 발생: {e}\")  # 터미널에 오류 메시지 출력\n",
    "            return chat_history, \"오류 발생: 자세한 내용은 서버 로그를 확인하세요.\", []\n",
    "\n",
    "\n",
    "    \n",
    "    submit_btn.click(\n",
    "    submit_question, \n",
    "    inputs=[msg, chatbot], \n",
    "    outputs=[chatbot, msg, highlighted_text]\n",
    ")\n",
    "\n",
    "\n",
    "iface.launch(share=True, debug=True)"
   ]
  },
  {
   "cell_type": "code",
   "execution_count": null,
   "metadata": {},
   "outputs": [],
   "source": []
  }
 ],
 "metadata": {
  "kernelspec": {
   "display_name": "Python 3",
   "language": "python",
   "name": "python3"
  },
  "language_info": {
   "codemirror_mode": {
    "name": "ipython",
    "version": 3
   },
   "file_extension": ".py",
   "mimetype": "text/x-python",
   "name": "python",
   "nbconvert_exporter": "python",
   "pygments_lexer": "ipython3",
   "version": "3.10.12"
  }
 },
 "nbformat": 4,
 "nbformat_minor": 2
}
