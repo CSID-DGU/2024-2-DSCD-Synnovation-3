{
 "cells": [
  {
   "cell_type": "code",
   "execution_count": 1,
   "metadata": {},
   "outputs": [
    {
     "name": "stderr",
     "output_type": "stream",
     "text": [
      "/home/jonghai/.local/lib/python3.10/site-packages/sentence_transformers/cross_encoder/CrossEncoder.py:13: TqdmWarning: IProgress not found. Please update jupyter and ipywidgets. See https://ipywidgets.readthedocs.io/en/stable/user_install.html\n",
      "  from tqdm.autonotebook import tqdm, trange\n"
     ]
    }
   ],
   "source": [
    "import os\n",
    "import numpy as np\n",
    "import pandas as pd\n",
    "# import matplotlib.pyplot as plt\n",
    "\n",
    "from sentence_transformers import SentenceTransformer\n",
    "\n",
    "from langchain_community.document_loaders import PyPDFLoader # 1.로드\n",
    "from langchain_community.document_loaders import TextLoader\n",
    "from langchain.text_splitter import RecursiveCharacterTextSplitter # 2.청크\n",
    "from langchain.embeddings import HuggingFaceEmbeddings # 3. 임베딩 모델\n",
    "from langchain.vectorstores import FAISS # 3. 벡터 저장\n",
    "from langchain.retrievers import BM25Retriever, EnsembleRetriever # 4. 검색 기법\n",
    "from langchain_ollama import ChatOllama\n",
    "from langchain.prompts import ChatPromptTemplate\n",
    "\n",
    "from transformers import pipeline"
   ]
  },
  {
   "cell_type": "code",
   "execution_count": 3,
   "metadata": {},
   "outputs": [],
   "source": [
    "# 1. 문서 로드 (pdf페이지로 나눠짐)\n",
    "loader = PyPDFLoader(\"한화생명 간편가입 시그니처 암보험(갱신형) 무배당_2055-001_002_약관_20220601_(2).pdf\")\n",
    "documents = loader.load()"
   ]
  },
  {
   "cell_type": "code",
   "execution_count": 4,
   "metadata": {},
   "outputs": [],
   "source": [
    "# 2. 문서를 적절한 크기의 조각으로 청크 (split)\n",
    "text_splitter = RecursiveCharacterTextSplitter(\n",
    "    chunk_size=500,\n",
    "    chunk_overlap=30) # 청크 중 중복되는 부분 크기\n",
    "  #seprator 공백이면 공백 기준으로 청크를.. \\n을 기본적으로 사용 (이거는 순차적으로 진행해줌)\n",
    "\n",
    "chunks = text_splitter.split_documents(documents)\n",
    "chunks = chunks[11:] #불필요한 청크 제외(목차 등)\n",
    "\n",
    "# 각 청크에 id 부여\n",
    "for i, chunk in enumerate(chunks):\n",
    "    chunk.metadata['doc_id'] = i"
   ]
  },
  {
   "cell_type": "code",
   "execution_count": 5,
   "metadata": {},
   "outputs": [
    {
     "name": "stderr",
     "output_type": "stream",
     "text": [
      "/tmp/ipykernel_81475/1925248646.py:2: LangChainDeprecationWarning: The class `HuggingFaceEmbeddings` was deprecated in LangChain 0.2.2 and will be removed in 1.0. An updated version of the class exists in the :class:`~langchain-huggingface package and should be used instead. To use it run `pip install -U :class:`~langchain-huggingface` and import as `from :class:`~langchain_huggingface import HuggingFaceEmbeddings``.\n",
      "  embedding = HuggingFaceEmbeddings(model_name=\"BAAI/bge-m3\") #기본모델:all-MiniLM-L6-v2 # model_name=\"BAAI/bge-small-en-v1.5\", \"BAAI/bge-m3\"지정 가능\n"
     ]
    }
   ],
   "source": [
    "# 3. HuggingFaceBgeEmbeddings 사용하여 벡터 임베딩 생성 (의미 검색)\n",
    "embedding = HuggingFaceEmbeddings(model_name=\"BAAI/bge-m3\") #기본모델:all-MiniLM-L6-v2 # model_name=\"BAAI/bge-small-en-v1.5\", \"BAAI/bge-m3\"지정 가능\n",
    "\n",
    "# 3. FAISS 벡터스토어 생성\n",
    "vectorstore = FAISS.from_documents(documents=chunks,\n",
    "                                   embedding=embedding)"
   ]
  },
  {
   "cell_type": "code",
   "execution_count": 6,
   "metadata": {},
   "outputs": [],
   "source": [
    "top_k = 3  # 원하는 top-k 문서 개수 설정\n",
    "\n",
    "retriever = vectorstore.as_retriever(search_type=\"similarity\", search_kwargs={\"k\": top_k})"
   ]
  },
  {
   "cell_type": "code",
   "execution_count": 7,
   "metadata": {},
   "outputs": [],
   "source": [
    "# 키워드 검색\n",
    "bm25_retriever = BM25Retriever.from_documents(chunks)\n",
    "bm25_retriever.k = 3"
   ]
  },
  {
   "cell_type": "code",
   "execution_count": 8,
   "metadata": {},
   "outputs": [],
   "source": [
    "# 의미 검색 + 키워드 검색 (앙상블)\n",
    "ensemble_retrievers = [retriever, bm25_retriever]\n",
    "ensemble_retriever = EnsembleRetriever(\n",
    "    retrievers=ensemble_retrievers,\n",
    "    weights=[0.7, 0.3]\n",
    ")"
   ]
  },
  {
   "cell_type": "code",
   "execution_count": 9,
   "metadata": {},
   "outputs": [],
   "source": [
    "# 6. llm + rag 파이프라인 구성\n",
    "from langchain import hub\n",
    "from langchain_core.prompts import ChatPromptTemplate\n",
    "from langchain.chains import create_retrieval_chain\n",
    "from langchain.chains.combine_documents import create_stuff_documents_chain\n",
    "\n",
    "\n",
    "# LLM 초기화\n",
    "llm = ChatOllama(model=\"llama3.1\",\n",
    "                 temperature=0.8,\n",
    "                 num_predict=300) # 최대로 생성할 토큰 수\n",
    "\n",
    "\n",
    "# 프롬프트 작성\n",
    "retrieval_qa_chat_prompt = ChatPromptTemplate.from_template(\"\"\"\n",
    "다음 컨텍스트를 바탕으로 질문에 답변해주세요. 컨텍스트에 관련 정보가 없다면,\n",
    "\"주어진 정보로는 답변할 수 없습니다.\"라고 말씀해 주세요.\n",
    "\n",
    "컨텍스트: {context}\n",
    "\n",
    "질문: {input}\n",
    "\n",
    "답변:\n",
    "\"\"\")\n",
    "\n",
    "\n",
    "# 체인 생성\n",
    "combine_docs_chain = create_stuff_documents_chain(llm, retrieval_qa_chat_prompt)\n",
    "rag_chain = create_retrieval_chain(ensemble_retriever, combine_docs_chain)"
   ]
  },
  {
   "cell_type": "markdown",
   "metadata": {},
   "source": [
    "# Rouge Metric"
   ]
  },
  {
   "cell_type": "code",
   "execution_count": 11,
   "metadata": {},
   "outputs": [
    {
     "name": "stderr",
     "output_type": "stream",
     "text": [
      "huggingface/tokenizers: The current process just got forked, after parallelism has already been used. Disabling parallelism to avoid deadlocks...\n",
      "To disable this warning, you can either:\n",
      "\t- Avoid using `tokenizers` before the fork if possible\n",
      "\t- Explicitly set the environment variable TOKENIZERS_PARALLELISM=(true | false)\n"
     ]
    },
    {
     "name": "stdout",
     "output_type": "stream",
     "text": [
      "Defaulting to user installation because normal site-packages is not writeable\n",
      "Collecting korouge-score\n",
      "  Downloading korouge_score-0.1.4-py3-none-any.whl (28 kB)\n",
      "Requirement already satisfied: numpy in /home/jonghai/.local/lib/python3.10/site-packages (from korouge-score) (1.26.4)\n",
      "Collecting absl-py\n",
      "  Downloading absl_py-2.1.0-py3-none-any.whl (133 kB)\n",
      "\u001b[2K     \u001b[90m━━━━━━━━━━━━━━━━━━━━━━━━━━━━━━━━━━━━━━━\u001b[0m \u001b[32m133.7/133.7 KB\u001b[0m \u001b[31m4.2 MB/s\u001b[0m eta \u001b[36m0:00:00\u001b[0m\n",
      "\u001b[?25hCollecting nltk\n",
      "  Downloading nltk-3.9.1-py3-none-any.whl (1.5 MB)\n",
      "\u001b[2K     \u001b[90m━━━━━━━━━━━━━━━━━━━━━━━━━━━━━━━━━━━━━━━━\u001b[0m \u001b[32m1.5/1.5 MB\u001b[0m \u001b[31m25.9 MB/s\u001b[0m eta \u001b[36m0:00:00\u001b[0ma \u001b[36m0:00:01\u001b[0m\n",
      "\u001b[?25hRequirement already satisfied: six>=1.14.0 in /usr/lib/python3/dist-packages (from korouge-score) (1.16.0)\n",
      "Requirement already satisfied: click in /usr/lib/python3/dist-packages (from nltk->korouge-score) (8.0.3)\n",
      "Requirement already satisfied: tqdm in /home/jonghai/.local/lib/python3.10/site-packages (from nltk->korouge-score) (4.66.5)\n",
      "Requirement already satisfied: regex>=2021.8.3 in /home/jonghai/.local/lib/python3.10/site-packages (from nltk->korouge-score) (2024.9.11)\n",
      "Requirement already satisfied: joblib in /home/jonghai/.local/lib/python3.10/site-packages (from nltk->korouge-score) (1.4.2)\n",
      "Installing collected packages: nltk, absl-py, korouge-score\n",
      "Successfully installed absl-py-2.1.0 korouge-score-0.1.4 nltk-3.9.1\n",
      "Note: you may need to restart the kernel to use updated packages.\n"
     ]
    }
   ],
   "source": [
    "pip install korouge-score"
   ]
  },
  {
   "cell_type": "code",
   "execution_count": 12,
   "metadata": {},
   "outputs": [],
   "source": [
    "from korouge_score import rouge_scorer\n",
    "from typing import List, Dict\n",
    "\n",
    "def calculate_rouge_similarity(\n",
    "        query: str, \n",
    "        prediction: str, \n",
    "        rouge_types: List[str] = ['rouge1', 'rouge2', 'rougeL'],\n",
    "        ) -> Dict[str, float]:\n",
    "    \n",
    "    \"\"\"\n",
    "    주어진 쿼리 문장과 예측 문장 사이의 선택된 ROUGE 점수를 계산합니다.\n",
    "\n",
    "    Args:\n",
    "    query (str): 기준이 되는 쿼리 문장\n",
    "    prediction (str): 유사성을 비교할 예측 문장\n",
    "    rouge_types (List[str]): 계산할 ROUGE 메트릭 리스트 (기본값: ['rouge1', 'rouge2', 'rougeL'])\n",
    "\n",
    "    Returns:\n",
    "    Dict[str, float]: 선택된 ROUGE 메트릭의 F1 점수를 포함하는 딕셔너리\n",
    "    \"\"\"\n",
    "    # 입력된 ROUGE 유형의 유효성을 검사합니다.\n",
    "    valid_rouge_types = set(['rouge1', 'rouge2', 'rougeL'])\n",
    "    rouge_types = [rt for rt in rouge_types if rt in valid_rouge_types]\n",
    "    \n",
    "    if not rouge_types:\n",
    "        raise ValueError(\"유효한 ROUGE 유형이 제공되지 않았습니다.\")\n",
    "\n",
    "    # ROUGE scorer 객체를 초기화합니다.\n",
    "    scorer = rouge_scorer.RougeScorer(rouge_types, use_stemmer=True)\n",
    "\n",
    "    # ROUGE 점수를 계산합니다.\n",
    "    scores = scorer.score(query, prediction)\n",
    "\n",
    "    # 결과를 정리합니다.\n",
    "    result = {rouge_type: scores[rouge_type].fmeasure for rouge_type in rouge_types}\n",
    "\n",
    "    return result"
   ]
  },
  {
   "cell_type": "code",
   "execution_count": 14,
   "metadata": {},
   "outputs": [
    {
     "name": "stdout",
     "output_type": "stream",
     "text": [
      "(200, 5)\n"
     ]
    },
    {
     "data": {
      "text/html": [
       "<div>\n",
       "<style scoped>\n",
       "    .dataframe tbody tr th:only-of-type {\n",
       "        vertical-align: middle;\n",
       "    }\n",
       "\n",
       "    .dataframe tbody tr th {\n",
       "        vertical-align: top;\n",
       "    }\n",
       "\n",
       "    .dataframe thead th {\n",
       "        text-align: right;\n",
       "    }\n",
       "</style>\n",
       "<table border=\"1\" class=\"dataframe\">\n",
       "  <thead>\n",
       "    <tr style=\"text-align: right;\">\n",
       "      <th></th>\n",
       "      <th>context</th>\n",
       "      <th>source</th>\n",
       "      <th>doc_id</th>\n",
       "      <th>question</th>\n",
       "      <th>answer</th>\n",
       "    </tr>\n",
       "  </thead>\n",
       "  <tbody>\n",
       "    <tr>\n",
       "      <th>0</th>\n",
       "      <td>7 / 531 \\nI. 약관 이용 안내 \\n1. 보험약관이란? \\n보험약관은 가입하...</td>\n",
       "      <td>한화생명 간편가입 시그니처 암보험(갱신형) 무배당</td>\n",
       "      <td>0</td>\n",
       "      <td>약관은 어떤 구성으로 이루어져 있나요?</td>\n",
       "      <td>약관은 주계약 약관과 특약(특별약관)으로 나뉩니다. 주계약 약관은 기본 계약을 포함...</td>\n",
       "    </tr>\n",
       "    <tr>\n",
       "      <th>1</th>\n",
       "      <td>10 / 531 \\n \\n5. 보험금 신청방법  \\n   \\nSTEP 1. \\n보험...</td>\n",
       "      <td>한화생명 간편가입 시그니처 암보험(갱신형) 무배당</td>\n",
       "      <td>5</td>\n",
       "      <td>보험금을 신청하려면 어떤 서류가 필요한가요?</td>\n",
       "      <td>보험금 신청 시 필요한 서류는 신청하는 보험금 종류에 따라 다릅니다. 기본적으로는 ...</td>\n",
       "    </tr>\n",
       "    <tr>\n",
       "      <th>2</th>\n",
       "      <td>있을 수 있으니 청구 유형별로 세부내역을 확인하시기 바랍니다. \\n  구분 사망 장...</td>\n",
       "      <td>한화생명 간편가입 시그니처 암보험(갱신형) 무배당</td>\n",
       "      <td>6</td>\n",
       "      <td>보험금 지급 절차는 어떻게 이루어지나요?</td>\n",
       "      <td>보험금 지급 절차는 다음과 같습니다:\\n\\nSTEP 1: 보험금 지급 접수\\nSTE...</td>\n",
       "    </tr>\n",
       "    <tr>\n",
       "      <th>3</th>\n",
       "      <td>12 / 531 \\nⅡ. 약관 요약서 \\n1. 보험계약의 개요 \\n가입하신 보험상품...</td>\n",
       "      <td>한화생명 간편가입 시그니처 암보험(갱신형) 무배당</td>\n",
       "      <td>8</td>\n",
       "      <td>해당 암보험은 어떤 특징을 가지고 있나요?</td>\n",
       "      <td>이 보험 상품의 주요 특징은 다음과 같습니다: 보장성보험: 사망, 질병, 상해 등의...</td>\n",
       "    </tr>\n",
       "    <tr>\n",
       "      <th>4</th>\n",
       "      <td>13 / 531 \\n \\n  \\n※ 3개월동안 대상특약의 보험료가 발생하지 않는 것...</td>\n",
       "      <td>한화생명 간편가입 시그니처 암보험(갱신형) 무배당</td>\n",
       "      <td>10</td>\n",
       "      <td>보장 개시일부터 보험료를 납입해야 하는 특약에는 어떤 것이 있나요?</td>\n",
       "      <td>보장 개시일부터 특약 보험료를 납입하는 특약으로는 다음이 포함됩니다:\\n\\n간편가입...</td>\n",
       "    </tr>\n",
       "  </tbody>\n",
       "</table>\n",
       "</div>"
      ],
      "text/plain": [
       "                                             context  \\\n",
       "0  7 / 531 \\nI. 약관 이용 안내 \\n1. 보험약관이란? \\n보험약관은 가입하...   \n",
       "1  10 / 531 \\n \\n5. 보험금 신청방법  \\n   \\nSTEP 1. \\n보험...   \n",
       "2  있을 수 있으니 청구 유형별로 세부내역을 확인하시기 바랍니다. \\n  구분 사망 장...   \n",
       "3  12 / 531 \\nⅡ. 약관 요약서 \\n1. 보험계약의 개요 \\n가입하신 보험상품...   \n",
       "4  13 / 531 \\n \\n  \\n※ 3개월동안 대상특약의 보험료가 발생하지 않는 것...   \n",
       "\n",
       "                        source  doc_id                               question  \\\n",
       "0  한화생명 간편가입 시그니처 암보험(갱신형) 무배당       0                  약관은 어떤 구성으로 이루어져 있나요?   \n",
       "1  한화생명 간편가입 시그니처 암보험(갱신형) 무배당       5               보험금을 신청하려면 어떤 서류가 필요한가요?   \n",
       "2  한화생명 간편가입 시그니처 암보험(갱신형) 무배당       6                 보험금 지급 절차는 어떻게 이루어지나요?   \n",
       "3  한화생명 간편가입 시그니처 암보험(갱신형) 무배당       8                해당 암보험은 어떤 특징을 가지고 있나요?   \n",
       "4  한화생명 간편가입 시그니처 암보험(갱신형) 무배당      10  보장 개시일부터 보험료를 납입해야 하는 특약에는 어떤 것이 있나요?   \n",
       "\n",
       "                                              answer  \n",
       "0  약관은 주계약 약관과 특약(특별약관)으로 나뉩니다. 주계약 약관은 기본 계약을 포함...  \n",
       "1  보험금 신청 시 필요한 서류는 신청하는 보험금 종류에 따라 다릅니다. 기본적으로는 ...  \n",
       "2  보험금 지급 절차는 다음과 같습니다:\\n\\nSTEP 1: 보험금 지급 접수\\nSTE...  \n",
       "3  이 보험 상품의 주요 특징은 다음과 같습니다: 보장성보험: 사망, 질병, 상해 등의...  \n",
       "4  보장 개시일부터 특약 보험료를 납입하는 특약으로는 다음이 포함됩니다:\\n\\n간편가입...  "
      ]
     },
     "execution_count": 14,
     "metadata": {},
     "output_type": "execute_result"
    }
   ],
   "source": [
    "# QA 데이터셋 로드 (200개 항목)\n",
    "df_qa_test = pd.read_csv(\"qa_test_복사본_최종최종.csv\", encoding='cp949')\n",
    "print(df_qa_test.shape)\n",
    "df_qa_test.head()"
   ]
  },
  {
   "cell_type": "code",
   "execution_count": 15,
   "metadata": {},
   "outputs": [
    {
     "name": "stdout",
     "output_type": "stream",
     "text": [
      "Question: 약관은 어떤 구성으로 이루어져 있나요?\n",
      "Ground Truth: 약관은 주계약 약관과 특약(특별약관)으로 나뉩니다. 주계약 약관은 기본 계약을 포함한 공통 사항에 대한 내용을 담고 있으며, 특약은 선택 가입한 보장 등에 대한 계약 내용을 포함합니다. 또한, 어려운 보험 용어나 관련 법규에 대한 안내도 함께 제공됩니다.\n",
      "\n",
      "Prediction: 주계약 약관 - 기본계약을 포함한 공통 사항에 대한 계약 내용입니다. 특약(특별약관 ) - 선택가입한 보장 등에 대한 계약 내용입니다.\n",
      "\n",
      "따라서, 주계약 약관은 제1관 목적 및 용어의 정의, 제2관 보험금의 지급, 제3관 계약자의 계약 전 알릴 의무 등으로 구성되어 있으며, 특약 약관은 「제1절 공통사항」과 「제2절 개별사항」으로 구성됩니다.\n",
      "Rouge 점수: 0.3171\n"
     ]
    }
   ],
   "source": [
    "# 예시\n",
    "question = df_qa_test.iloc[0]['question']\n",
    "ground_truth = df_qa_test.iloc[0]['answer']\n",
    "response = rag_chain.invoke({\"input\": question})\n",
    "prediction = response['answer']\n",
    "\n",
    "print(\"Question:\", question)\n",
    "print(\"Ground Truth:\", ground_truth)\n",
    "print(\"Prediction:\", prediction)\n",
    "\n",
    "rouge_scores = calculate_rouge_similarity(ground_truth, prediction, ['rouge1'])\n",
    "print(f\"Rouge 점수: {rouge_scores['rouge1']:.4f}\")"
   ]
  },
  {
   "cell_type": "code",
   "execution_count": 16,
   "metadata": {},
   "outputs": [
    {
     "data": {
      "text/html": [
       "<div>\n",
       "<style scoped>\n",
       "    .dataframe tbody tr th:only-of-type {\n",
       "        vertical-align: middle;\n",
       "    }\n",
       "\n",
       "    .dataframe tbody tr th {\n",
       "        vertical-align: top;\n",
       "    }\n",
       "\n",
       "    .dataframe thead th {\n",
       "        text-align: right;\n",
       "    }\n",
       "</style>\n",
       "<table border=\"1\" class=\"dataframe\">\n",
       "  <thead>\n",
       "    <tr style=\"text-align: right;\">\n",
       "      <th></th>\n",
       "      <th>rouge1</th>\n",
       "      <th>rouge2</th>\n",
       "      <th>rougeL</th>\n",
       "    </tr>\n",
       "  </thead>\n",
       "  <tbody>\n",
       "    <tr>\n",
       "      <th>0</th>\n",
       "      <td>0.025974</td>\n",
       "      <td>0.000000</td>\n",
       "      <td>0.025974</td>\n",
       "    </tr>\n",
       "    <tr>\n",
       "      <th>1</th>\n",
       "      <td>0.212766</td>\n",
       "      <td>0.021739</td>\n",
       "      <td>0.191489</td>\n",
       "    </tr>\n",
       "    <tr>\n",
       "      <th>2</th>\n",
       "      <td>0.116883</td>\n",
       "      <td>0.000000</td>\n",
       "      <td>0.064935</td>\n",
       "    </tr>\n",
       "  </tbody>\n",
       "</table>\n",
       "</div>"
      ],
      "text/plain": [
       "     rouge1    rouge2    rougeL\n",
       "0  0.025974  0.000000  0.025974\n",
       "1  0.212766  0.021739  0.191489\n",
       "2  0.116883  0.000000  0.064935"
      ]
     },
     "execution_count": 16,
     "metadata": {},
     "output_type": "execute_result"
    }
   ],
   "source": [
    "# 전체 데이터셋에 대해 A/B 테스트 - 여기서는 3개만 평가 (데이터프레임으로 정리)\n",
    "\n",
    "def rouge_evaluate_qa_dataset(df_qa_test):\n",
    "    \n",
    "        results = []\n",
    "    \n",
    "        for i in range(3):\n",
    "            question = df_qa_test.iloc[i]['question']\n",
    "            ground_truth = df_qa_test.iloc[i]['answer']\n",
    "            response = rag_chain.invoke({\"input\": question})\n",
    "            prediction = response['answer']\n",
    "\n",
    "            result = calculate_rouge_similarity(prediction, ground_truth)\n",
    "            results.append(result)\n",
    "    \n",
    "        return pd.DataFrame(results)    \n",
    "\n",
    "df_result_rouge = rouge_evaluate_qa_dataset(df_qa_test.iloc[:3])\n",
    "df_result_rouge"
   ]
  }
 ],
 "metadata": {
  "kernelspec": {
   "display_name": "Python 3",
   "language": "python",
   "name": "python3"
  },
  "language_info": {
   "codemirror_mode": {
    "name": "ipython",
    "version": 3
   },
   "file_extension": ".py",
   "mimetype": "text/x-python",
   "name": "python",
   "nbconvert_exporter": "python",
   "pygments_lexer": "ipython3",
   "version": "3.10.12"
  }
 },
 "nbformat": 4,
 "nbformat_minor": 2
}
