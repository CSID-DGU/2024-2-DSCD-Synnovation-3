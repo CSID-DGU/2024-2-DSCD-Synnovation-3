import gradio as gr

# Gradio UI 구성
with gr.Blocks() as iface:
    # 제목 및 설명
    gr.Markdown("# 보험 문서 챗봇\n보험 문서에 대해 물어보면 답하는 챗봇입니다.")
    
    # PDF 반환 파일 경로
    cancer_pdf = "./한화생명 간편가입 시그니처 암보험(갱신형) 무배당_2055-001_002_약관_20220601_(2).pdf"
    life_pdf = "./life_insurance.pdf"
    car_pdf = "./car_insurance.pdf"
    
    # PDF 버튼 및 챗봇 UI
    with gr.Row():
        cancer_btn = gr.Button("암보험")
        life_btn = gr.Button("생명보험")
        car_btn = gr.Button("자동차보험")
        glossary_btn = gr.Button("용어사전")  # 용어사전 버튼 추가
    
    chatbot = gr.Chatbot()
    msg = gr.Textbox(placeholder="뭐든지 물어보세요.", label="챗 입력")
    
    # 버튼 행
    with gr.Row():
        submit_btn = gr.Button("보내기")
        retry_btn = gr.Button("다시보내기 ↩")
        undo_btn = gr.Button("이전 채팅 삭제 ❌")
        clear_btn = gr.Button("전체 채팅 삭제 💫")
    
    # PDF 버튼 클릭 시 챗봇에 메시지 추가
    def update_chatbot_with_message(chat_history, sender, message):
        chat_history.append((sender, message))  # 지정된 발신자와 메시지 추가
        return chat_history

    # 버튼 클릭 이벤트 설정
    cancer_btn.click(
        lambda chat_history: update_chatbot_with_message(chat_history, "암보험", "암보험 관련 정보를 물어보세요."),
        inputs=chatbot,
        outputs=chatbot
    )
    life_btn.click(
        lambda chat_history: update_chatbot_with_message(chat_history, "생명보험", "생명보험 관련 정보를 물어보세요."),
        inputs=chatbot,
        outputs=chatbot
    )
    car_btn.click(
        lambda chat_history: update_chatbot_with_message(chat_history, "자동차보험", "자동차보험 관련 정보를 물어보세요."),
        inputs=chatbot,
        outputs=chatbot
    )
    glossary_btn.click(
        lambda chat_history: update_chatbot_with_message(
            chat_history,
            "용어사전",
            (
                "용어사전에 대한 정보는 다음 링크를 참조하세요:\n"
                "- [보험 용어사전 1](https://www.hwgeneralins.com/lounge/dic/index.do)\n"
                "- [보험 용어사전 2](https://m.blog.naver.com/blogfsc/220149083103)"
            )
        ),
        inputs=chatbot,
        outputs=chatbot
    )

    # 채팅 제출 시 응답 생성 (더미 예제 함수)
    def submit(message, history):
        response_message = f"'{message}'에 대한 답변입니다."  # 질문에 대한 더미 답변
        history.append((message, response_message))  # 대화 기록에 추가
        return history, ""

    # 버튼 기능 연결
    submit_btn.click(submit, [msg, chatbot], [chatbot, msg])  # 메시지 제출
    retry_btn.click(lambda history: history, [chatbot], chatbot)  # 마지막 메시지 재처리
    undo_btn.click(lambda history: history[:-1] if history else history, [chatbot], chatbot)  # 마지막 메시지 삭제
    clear_btn.click(lambda: [], None, chatbot)  # 대화 기록 초기화

iface.launch()
