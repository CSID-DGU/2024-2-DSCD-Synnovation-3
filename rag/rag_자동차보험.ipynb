{
 "cells": [
  {
   "cell_type": "code",
   "execution_count": null,
   "metadata": {},
   "outputs": [
    {
     "name": "stdout",
     "output_type": "stream",
     "text": [
      "Defaulting to user installation because normal site-packages is not writeable\n",
      "Requirement already satisfied: numpy in /home/minhai/.local/lib/python3.12/site-packages (1.26.4)\n",
      "Requirement already satisfied: pandas in /home/minhai/.local/lib/python3.12/site-packages (2.2.3)\n",
      "Requirement already satisfied: python-dateutil>=2.8.2 in /opt/miniconda/lib/python3.12/site-packages (from pandas) (2.9.0)\n",
      "Requirement already satisfied: pytz>=2020.1 in /opt/miniconda/lib/python3.12/site-packages (from pandas) (2024.1)\n",
      "Requirement already satisfied: tzdata>=2022.7 in /home/minhai/.local/lib/python3.12/site-packages (from pandas) (2024.2)\n",
      "Requirement already satisfied: six>=1.5 in /opt/miniconda/lib/python3.12/site-packages (from python-dateutil>=2.8.2->pandas) (1.16.0)\n",
      "Note: you may need to restart the kernel to use updated packages.\n"
     ]
    }
   ],
   "source": [
    "# pip install numpy pandas\n",
    "# pip install trl\n",
    "# pip install sentence_transformers\n",
    "# pip install -U bitsandbytes\n",
    "# pip install langchain langchain-community pypdf pdfplumber faiss-cpu\n",
    "# pip install langchain-ollama\n",
    "# pip install rank_bm25"
   ]
  },
  {
   "cell_type": "code",
   "execution_count": null,
   "metadata": {},
   "outputs": [],
   "source": [
    "# 이건 진짜로 그냥 필요없음\n",
    "# pip install -U transformers\n",
    "# pip install -U accelerate\n",
    "# pip install kiwipiepy"
   ]
  },
  {
   "cell_type": "code",
   "execution_count": 9,
   "metadata": {},
   "outputs": [
    {
     "name": "stderr",
     "output_type": "stream",
     "text": [
      "/home/minhai/.local/lib/python3.12/site-packages/sentence_transformers/cross_encoder/CrossEncoder.py:13: TqdmWarning: IProgress not found. Please update jupyter and ipywidgets. See https://ipywidgets.readthedocs.io/en/stable/user_install.html\n",
      "  from tqdm.autonotebook import tqdm, trange\n"
     ]
    }
   ],
   "source": [
    "import os\n",
    "import numpy as np\n",
    "import pandas as pd\n",
    "\n",
    "from sentence_transformers import SentenceTransformer\n",
    "\n",
    "from langchain_community.document_loaders import PyPDFLoader # 1.로드\n",
    "from langchain_community.document_loaders import TextLoader\n",
    "from langchain.text_splitter import RecursiveCharacterTextSplitter # 2.청크\n",
    "from langchain.embeddings import HuggingFaceEmbeddings # 3. 임베딩 모델\n",
    "from langchain.vectorstores import FAISS # 3. 벡터 저장\n",
    "from langchain.retrievers import BM25Retriever, EnsembleRetriever # 4. 검색 기법\n",
    "from langchain_ollama import ChatOllama\n",
    "from langchain.prompts import ChatPromptTemplate\n",
    "\n",
    "from transformers import pipeline"
   ]
  },
  {
   "cell_type": "code",
   "execution_count": 10,
   "metadata": {},
   "outputs": [],
   "source": [
    "# 1. 문서 로드 (pdf페이지로 나눠짐)\n",
    "loader = PyPDFLoader(\"/home/minhai/2024-2-DSCD-Synnovation-3/한화 개인용 자동차보험.pdf\")\n",
    "documents = loader.load()"
   ]
  },
  {
   "cell_type": "code",
   "execution_count": 11,
   "metadata": {},
   "outputs": [
    {
     "name": "stdout",
     "output_type": "stream",
     "text": [
      "생성된 텍스트 청크 수: 702\n",
      "각 청크의 길이: [476, 498, 406, 499, 482, 497, 493, 102, 489, 491, 485, 336, 469, 495, 499, 124, 494, 486, 478, 491, 247, 494, 493, 492, 489, 495, 140, 499, 496, 493, 497, 462, 496, 478, 486, 490, 491, 416, 492, 475, 499, 380, 497, 474, 496, 217, 497, 497, 474, 488, 432, 490, 468, 497, 493, 383, 493, 497, 123, 159, 500, 491, 231, 489, 476, 487, 398, 458, 468, 485, 482, 495, 475, 469, 94, 488, 475, 488, 498, 232, 492, 457, 472, 498, 454, 136, 498, 491, 468, 465, 492, 479, 352, 477, 481, 476, 491, 472, 483, 186, 492, 493, 458, 470, 488, 486, 499, 464, 483, 492, 489, 487, 75, 466, 482, 498, 470, 493, 478, 158, 478, 484, 472, 498, 477, 492, 465, 499, 478, 481, 481, 481, 52, 462, 470, 483, 474, 473, 480, 210, 486, 468, 494, 493, 470, 450, 500, 463, 474, 496, 468, 456, 329, 473, 455, 483, 480, 482, 488, 153, 491, 480, 479, 463, 480, 325, 484, 470, 473, 497, 475, 493, 466, 99, 459, 469, 489, 465, 493, 450, 349, 489, 487, 450, 483, 473, 477, 494, 105, 489, 492, 486, 492, 460, 474, 498, 393, 494, 499, 484, 499, 458, 466, 478, 462, 499, 485, 478, 299, 498, 461, 494, 480, 461, 402, 458, 463, 474, 458, 484, 463, 41, 500, 473, 457, 483, 487, 286, 477, 479, 485, 477, 471, 241, 486, 459, 479, 478, 473, 292, 483, 470, 468, 489, 94, 496, 472, 478, 479, 391, 479, 497, 495, 491, 232, 496, 497, 473, 479, 494, 223, 467, 498, 476, 479, 261, 464, 480, 490, 463, 462, 455, 483, 476, 416, 492, 469, 477, 473, 107, 484, 487, 497, 469, 207, 451, 497, 468, 492, 431, 492, 497, 496, 433, 491, 474, 486, 43, 486, 479, 484, 488, 39, 460, 458, 479, 484, 370, 498, 483, 473, 478, 491, 9, 477, 499, 496, 471, 489, 235, 495, 480, 468, 495, 489, 249, 494, 492, 489, 471, 495, 19, 480, 489, 480, 495, 462, 184, 485, 458, 474, 456, 463, 100, 494, 484, 494, 494, 465, 85, 496, 460, 469, 497, 165, 486, 487, 492, 495, 482, 475, 477, 482, 483, 496, 66, 496, 496, 491, 491, 276, 477, 466, 377, 467, 463, 458, 490, 475, 260, 475, 496, 496, 493, 359, 492, 487, 490, 310, 488, 481, 480, 475, 466, 276, 476, 497, 464, 489, 460, 294, 498, 454, 479, 274, 487, 474, 491, 479, 459, 133, 500, 468, 466, 473, 410, 487, 467, 482, 460, 462, 84, 486, 496, 326, 468, 486, 484, 468, 485, 474, 469, 493, 478, 482, 467, 244, 490, 458, 483, 490, 496, 489, 347, 495, 477, 499, 461, 472, 32, 464, 461, 459, 471, 364, 479, 495, 494, 463, 485, 499, 470, 481, 486, 471, 263, 494, 478, 490, 467, 398, 491, 489, 461, 493, 480, 493, 494, 463, 481, 489, 465, 39, 465, 469, 472, 488, 473, 91, 473, 496, 469, 477, 462, 273, 497, 480, 495, 463, 474, 382, 466, 464, 474, 487, 490, 416, 488, 472, 489, 495, 484, 123, 471, 483, 468, 491, 499, 244, 497, 480, 461, 471, 478, 399, 477, 484, 468, 464, 107, 28, 473, 483, 427, 458, 472, 493, 495, 489, 493, 489, 498, 499, 422, 472, 479, 497, 495, 374, 464, 480, 165, 467, 497, 483, 493, 498, 496, 489, 470, 175, 494, 483, 489, 483, 30, 475, 471, 489, 498, 119, 487, 334, 480, 484, 175, 475, 451, 496, 473, 164, 485, 485, 481, 203, 499, 466, 495, 483, 196, 494, 495, 483, 471, 223, 477, 481, 495, 468, 237, 478, 468, 499, 489, 403, 482, 473, 490, 496, 470, 350, 498, 466, 464, 451, 497, 494, 496, 337, 476, 497, 469, 473, 185, 460, 466, 486, 494, 259, 29, 481, 461, 461, 83, 498, 491, 460, 471, 495, 452, 458, 471, 484, 470, 484, 287, 491, 470, 488, 495, 488, 87, 478, 492, 473, 487, 465, 493, 77, 491, 467, 483, 462, 473, 415, 485, 491, 461, 473, 493, 399, 500, 457, 476, 495, 469, 494, 27, 480, 482, 463, 488, 493, 493, 196, 493, 496, 465, 496, 465, 476, 476, 477, 482, 473, 187, 147, 492, 490, 495, 466, 352]\n"
     ]
    }
   ],
   "source": [
    "# 2. 문서를 적절한 크기의 조각으로 청크 (split)\n",
    "text_splitter = RecursiveCharacterTextSplitter(\n",
    "    chunk_size=500,\n",
    "    chunk_overlap=30) # 청크 중 중복되는 부분 크기\n",
    "  #seprator 공백이면 공백 기준으로 청크를.. \\n을 기본적으로 사용 (이거는 순차적으로 진행해줌)\n",
    "\n",
    "chunks = text_splitter.split_documents(documents)\n",
    "chunks = chunks[11:] #불필요한 청크 제외(목차 등)\n",
    "\n",
    "# 각 청크에 id 부여\n",
    "for i, chunk in enumerate(chunks):\n",
    "    chunk.metadata['doc_id'] = i\n",
    "\n",
    "print(f\"생성된 텍스트 청크 수: {len(chunks)}\")\n",
    "print(f\"각 청크의 길이: {list(len(text.page_content) for text in chunks)}\")"
   ]
  },
  {
   "cell_type": "code",
   "execution_count": null,
   "metadata": {},
   "outputs": [
    {
     "data": {
      "text/plain": [
       "'한화 개인용 자동차보험.pdf'"
      ]
     },
     "execution_count": 13,
     "metadata": {},
     "output_type": "execute_result"
    }
   ],
   "source": [
    "# # qa 데이터셋을 위해 파일 저장 \n",
    "\n",
    "# # meatadata에서 정보 추출\n",
    "# os.path.split(chunks[0].metadata['source'])[1].split('_')[0]\n",
    "\n",
    "# # 메타데이터가 저장된 데이터 프레임 제작\n",
    "# final_docs = []\n",
    "# for i, doc in enumerate(chunks):\n",
    "#     new_doc = doc.copy()\n",
    "#     new_doc.metadata['doc_id'] = i # metadata에 doc id를 추가\n",
    "#     new_doc.metadata['source'] = str(os.path.split(new_doc.metadata['source'])[1].split('_')[0])\n",
    "#     # corp_name = str(os.path.split(new_doc.metadata['source'])[1].split('_')[0]) # metadata에서 정보를 추출하여 page_content에 추가\n",
    "#     # new_doc.page_content = f\"{new_doc.page_content}\\n\\n(참고: 이 문서는 {corp_name}에 대한 정보를 담고 있습니다.)\"\n",
    "#     final_docs.append(new_doc)\n",
    "\n",
    "# # 문서 저장\n",
    "# import json\n",
    "# with open(\"chunks.json\", \"wb\") as f:\n",
    "#     for doc in chunks:\n",
    "#         f.write(json.dumps(dict(doc)).encode('utf-8'))\n",
    "#         f.write(b'\\n')\n",
    "\n",
    "# # JSONL 파일 로드하기\n",
    "# from langchain_community.document_loaders import JSONLoader\n",
    "\n",
    "# def metadata_func(record: dict, metadata: dict) -> dict: #메타 데이터 추가\n",
    "#     metadata = record.get(\"metadata\")\n",
    "#     return metadata\n",
    "\n",
    "# json_loader = JSONLoader(\n",
    "#     file_path=\"/home/minhai/2024-2-DSCD-Synnovation-3/chunks.json\",\n",
    "#     jq_schema=\".\",\n",
    "#     content_key=\"page_content\",\n",
    "#     json_lines=True,\n",
    "#     metadata_func=metadata_func,\n",
    "# )\n",
    "\n",
    "# json_docs = json_loader.load()\n",
    "# print(\"문서의 수:\", len(json_docs))\n",
    "\n",
    "# # 데이터프레임으로 변환\n",
    "# test_data = []\n",
    "# for doc in json_docs:\n",
    "#     test_data.append({\n",
    "#         'context': str(doc.page_content),\n",
    "#         'source': str(doc.metadata.get('source', '')),\n",
    "#         'doc_id': str(doc.metadata.get('doc_id', ''))\n",
    "#     })\n",
    "\n",
    "# df_test = pd.DataFrame(test_data)\n",
    "# print(df_test.shape)\n",
    "# df_test.head()\n",
    "# df_test.to_csv(\"/home/minhai/2024-2-DSCD-Synnovation-3/자동차보험_chunks.csv\")"
   ]
  }
 ],
 "metadata": {
  "kernelspec": {
   "display_name": "base",
   "language": "python",
   "name": "python3"
  },
  "language_info": {
   "codemirror_mode": {
    "name": "ipython",
    "version": 3
   },
   "file_extension": ".py",
   "mimetype": "text/x-python",
   "name": "python",
   "nbconvert_exporter": "python",
   "pygments_lexer": "ipython3",
   "version": "3.12.2"
  }
 },
 "nbformat": 4,
 "nbformat_minor": 2
}
