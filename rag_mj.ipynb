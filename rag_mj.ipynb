{
 "cells": [
  {
   "cell_type": "code",
   "execution_count": 9,
   "metadata": {},
   "outputs": [
    {
     "name": "stdout",
     "output_type": "stream",
     "text": [
      "Collecting numpy\n",
      "  Downloading numpy-2.1.2-cp310-cp310-manylinux_2_17_x86_64.manylinux2014_x86_64.whl.metadata (60 kB)\n",
      "Collecting pandas\n",
      "  Downloading pandas-2.2.3-cp310-cp310-manylinux_2_17_x86_64.manylinux2014_x86_64.whl.metadata (89 kB)\n",
      "Requirement already satisfied: python-dateutil>=2.8.2 in ./.venv/lib/python3.10/site-packages (from pandas) (2.9.0.post0)\n",
      "Collecting pytz>=2020.1 (from pandas)\n",
      "  Downloading pytz-2024.2-py2.py3-none-any.whl.metadata (22 kB)\n",
      "Collecting tzdata>=2022.7 (from pandas)\n",
      "  Downloading tzdata-2024.2-py2.py3-none-any.whl.metadata (1.4 kB)\n",
      "Requirement already satisfied: six>=1.5 in ./.venv/lib/python3.10/site-packages (from python-dateutil>=2.8.2->pandas) (1.16.0)\n",
      "Downloading numpy-2.1.2-cp310-cp310-manylinux_2_17_x86_64.manylinux2014_x86_64.whl (16.3 MB)\n",
      "\u001b[2K   \u001b[90m━━━━━━━━━━━━━━━━━━━━━━━━━━━━━━━━━━━━━━━━\u001b[0m \u001b[32m16.3/16.3 MB\u001b[0m \u001b[31m16.3 MB/s\u001b[0m eta \u001b[36m0:00:00\u001b[0m00:01\u001b[0m0:01\u001b[0m\n",
      "\u001b[?25hDownloading pandas-2.2.3-cp310-cp310-manylinux_2_17_x86_64.manylinux2014_x86_64.whl (13.1 MB)\n",
      "\u001b[2K   \u001b[90m━━━━━━━━━━━━━━━━━━━━━━━━━━━━━━━━━━━━━━━━\u001b[0m \u001b[32m13.1/13.1 MB\u001b[0m \u001b[31m38.4 MB/s\u001b[0m eta \u001b[36m0:00:00\u001b[0m00:01\u001b[0m\n",
      "\u001b[?25hDownloading pytz-2024.2-py2.py3-none-any.whl (508 kB)\n",
      "Downloading tzdata-2024.2-py2.py3-none-any.whl (346 kB)\n",
      "Installing collected packages: pytz, tzdata, numpy, pandas\n"
     ]
    }
   ],
   "source": [
    "pip install numpy pandas"
   ]
  },
  {
   "cell_type": "code",
   "execution_count": 13,
   "metadata": {},
   "outputs": [
    {
     "name": "stdout",
     "output_type": "stream",
     "text": [
      "Collecting sentence_transformers\n",
      "  Downloading sentence_transformers-3.2.1-py3-none-any.whl.metadata (10 kB)\n",
      "Collecting transformers<5.0.0,>=4.41.0 (from sentence_transformers)\n",
      "  Downloading transformers-4.46.0-py3-none-any.whl.metadata (44 kB)\n",
      "Collecting tqdm (from sentence_transformers)\n",
      "  Downloading tqdm-4.66.5-py3-none-any.whl.metadata (57 kB)\n",
      "Collecting torch>=1.11.0 (from sentence_transformers)\n",
      "  Downloading torch-2.5.0-cp310-cp310-manylinux1_x86_64.whl.metadata (28 kB)\n",
      "Collecting scikit-learn (from sentence_transformers)\n",
      "  Downloading scikit_learn-1.5.2-cp310-cp310-manylinux_2_17_x86_64.manylinux2014_x86_64.whl.metadata (13 kB)\n",
      "Collecting scipy (from sentence_transformers)\n",
      "  Downloading scipy-1.14.1-cp310-cp310-manylinux_2_17_x86_64.manylinux2014_x86_64.whl.metadata (60 kB)\n",
      "Collecting huggingface-hub>=0.20.0 (from sentence_transformers)\n",
      "  Downloading huggingface_hub-0.26.1-py3-none-any.whl.metadata (13 kB)\n",
      "Collecting Pillow (from sentence_transformers)\n",
      "  Downloading pillow-11.0.0-cp310-cp310-manylinux_2_28_x86_64.whl.metadata (9.1 kB)\n",
      "Collecting filelock (from huggingface-hub>=0.20.0->sentence_transformers)\n",
      "  Downloading filelock-3.16.1-py3-none-any.whl.metadata (2.9 kB)\n",
      "Collecting fsspec>=2023.5.0 (from huggingface-hub>=0.20.0->sentence_transformers)\n",
      "  Downloading fsspec-2024.10.0-py3-none-any.whl.metadata (11 kB)\n",
      "Requirement already satisfied: packaging>=20.9 in ./.venv/lib/python3.10/site-packages (from huggingface-hub>=0.20.0->sentence_transformers) (24.1)\n",
      "Collecting pyyaml>=5.1 (from huggingface-hub>=0.20.0->sentence_transformers)\n",
      "  Downloading PyYAML-6.0.2-cp310-cp310-manylinux_2_17_x86_64.manylinux2014_x86_64.whl.metadata (2.1 kB)\n",
      "Collecting requests (from huggingface-hub>=0.20.0->sentence_transformers)\n",
      "  Downloading requests-2.32.3-py3-none-any.whl.metadata (4.6 kB)\n",
      "Requirement already satisfied: typing-extensions>=3.7.4.3 in ./.venv/lib/python3.10/site-packages (from huggingface-hub>=0.20.0->sentence_transformers) (4.12.2)\n",
      "Collecting networkx (from torch>=1.11.0->sentence_transformers)\n",
      "  Downloading networkx-3.4.2-py3-none-any.whl.metadata (6.3 kB)\n",
      "Collecting jinja2 (from torch>=1.11.0->sentence_transformers)\n",
      "  Downloading jinja2-3.1.4-py3-none-any.whl.metadata (2.6 kB)\n",
      "Collecting nvidia-cuda-nvrtc-cu12==12.4.127 (from torch>=1.11.0->sentence_transformers)\n",
      "  Downloading nvidia_cuda_nvrtc_cu12-12.4.127-py3-none-manylinux2014_x86_64.whl.metadata (1.5 kB)\n",
      "Collecting nvidia-cuda-runtime-cu12==12.4.127 (from torch>=1.11.0->sentence_transformers)\n",
      "  Downloading nvidia_cuda_runtime_cu12-12.4.127-py3-none-manylinux2014_x86_64.whl.metadata (1.5 kB)\n",
      "Collecting nvidia-cuda-cupti-cu12==12.4.127 (from torch>=1.11.0->sentence_transformers)\n",
      "  Downloading nvidia_cuda_cupti_cu12-12.4.127-py3-none-manylinux2014_x86_64.whl.metadata (1.6 kB)\n",
      "Collecting nvidia-cudnn-cu12==9.1.0.70 (from torch>=1.11.0->sentence_transformers)\n",
      "  Downloading nvidia_cudnn_cu12-9.1.0.70-py3-none-manylinux2014_x86_64.whl.metadata (1.6 kB)\n",
      "Collecting nvidia-cublas-cu12==12.4.5.8 (from torch>=1.11.0->sentence_transformers)\n",
      "  Downloading nvidia_cublas_cu12-12.4.5.8-py3-none-manylinux2014_x86_64.whl.metadata (1.5 kB)\n",
      "Collecting nvidia-cufft-cu12==11.2.1.3 (from torch>=1.11.0->sentence_transformers)\n",
      "  Downloading nvidia_cufft_cu12-11.2.1.3-py3-none-manylinux2014_x86_64.whl.metadata (1.5 kB)\n",
      "Collecting nvidia-curand-cu12==10.3.5.147 (from torch>=1.11.0->sentence_transformers)\n",
      "  Downloading nvidia_curand_cu12-10.3.5.147-py3-none-manylinux2014_x86_64.whl.metadata (1.5 kB)\n",
      "Collecting nvidia-cusolver-cu12==11.6.1.9 (from torch>=1.11.0->sentence_transformers)\n",
      "  Downloading nvidia_cusolver_cu12-11.6.1.9-py3-none-manylinux2014_x86_64.whl.metadata (1.6 kB)\n",
      "Collecting nvidia-cusparse-cu12==12.3.1.170 (from torch>=1.11.0->sentence_transformers)\n",
      "  Downloading nvidia_cusparse_cu12-12.3.1.170-py3-none-manylinux2014_x86_64.whl.metadata (1.6 kB)\n",
      "Collecting nvidia-nccl-cu12==2.21.5 (from torch>=1.11.0->sentence_transformers)\n",
      "  Downloading nvidia_nccl_cu12-2.21.5-py3-none-manylinux2014_x86_64.whl.metadata (1.8 kB)\n",
      "Collecting nvidia-nvtx-cu12==12.4.127 (from torch>=1.11.0->sentence_transformers)\n",
      "  Downloading nvidia_nvtx_cu12-12.4.127-py3-none-manylinux2014_x86_64.whl.metadata (1.7 kB)\n",
      "Collecting nvidia-nvjitlink-cu12==12.4.127 (from torch>=1.11.0->sentence_transformers)\n",
      "  Downloading nvidia_nvjitlink_cu12-12.4.127-py3-none-manylinux2014_x86_64.whl.metadata (1.5 kB)\n",
      "Collecting triton==3.1.0 (from torch>=1.11.0->sentence_transformers)\n",
      "  Downloading triton-3.1.0-cp310-cp310-manylinux_2_17_x86_64.manylinux2014_x86_64.whl.metadata (1.3 kB)\n",
      "Collecting sympy==1.13.1 (from torch>=1.11.0->sentence_transformers)\n",
      "  Downloading sympy-1.13.1-py3-none-any.whl.metadata (12 kB)\n",
      "Collecting mpmath<1.4,>=1.1.0 (from sympy==1.13.1->torch>=1.11.0->sentence_transformers)\n",
      "  Downloading mpmath-1.3.0-py3-none-any.whl.metadata (8.6 kB)\n",
      "Requirement already satisfied: numpy>=1.17 in ./.venv/lib/python3.10/site-packages (from transformers<5.0.0,>=4.41.0->sentence_transformers) (2.1.2)\n",
      "Collecting regex!=2019.12.17 (from transformers<5.0.0,>=4.41.0->sentence_transformers)\n",
      "  Downloading regex-2024.9.11-cp310-cp310-manylinux_2_17_x86_64.manylinux2014_x86_64.whl.metadata (40 kB)\n",
      "Collecting safetensors>=0.4.1 (from transformers<5.0.0,>=4.41.0->sentence_transformers)\n",
      "  Downloading safetensors-0.4.5-cp310-cp310-manylinux_2_17_x86_64.manylinux2014_x86_64.whl.metadata (3.8 kB)\n",
      "Collecting tokenizers<0.21,>=0.20 (from transformers<5.0.0,>=4.41.0->sentence_transformers)\n",
      "  Downloading tokenizers-0.20.1-cp310-cp310-manylinux_2_17_x86_64.manylinux2014_x86_64.whl.metadata (6.7 kB)\n",
      "Collecting joblib>=1.2.0 (from scikit-learn->sentence_transformers)\n",
      "  Downloading joblib-1.4.2-py3-none-any.whl.metadata (5.4 kB)\n",
      "Collecting threadpoolctl>=3.1.0 (from scikit-learn->sentence_transformers)\n",
      "  Downloading threadpoolctl-3.5.0-py3-none-any.whl.metadata (13 kB)\n",
      "Collecting MarkupSafe>=2.0 (from jinja2->torch>=1.11.0->sentence_transformers)\n",
      "  Downloading MarkupSafe-3.0.2-cp310-cp310-manylinux_2_17_x86_64.manylinux2014_x86_64.whl.metadata (4.0 kB)\n",
      "Collecting charset-normalizer<4,>=2 (from requests->huggingface-hub>=0.20.0->sentence_transformers)\n",
      "  Downloading charset_normalizer-3.4.0-cp310-cp310-manylinux_2_17_x86_64.manylinux2014_x86_64.whl.metadata (34 kB)\n",
      "Collecting idna<4,>=2.5 (from requests->huggingface-hub>=0.20.0->sentence_transformers)\n",
      "  Downloading idna-3.10-py3-none-any.whl.metadata (10 kB)\n",
      "Collecting urllib3<3,>=1.21.1 (from requests->huggingface-hub>=0.20.0->sentence_transformers)\n",
      "  Downloading urllib3-2.2.3-py3-none-any.whl.metadata (6.5 kB)\n",
      "Collecting certifi>=2017.4.17 (from requests->huggingface-hub>=0.20.0->sentence_transformers)\n",
      "  Downloading certifi-2024.8.30-py3-none-any.whl.metadata (2.2 kB)\n",
      "Downloading sentence_transformers-3.2.1-py3-none-any.whl (255 kB)\n",
      "Downloading huggingface_hub-0.26.1-py3-none-any.whl (447 kB)\n",
      "Downloading torch-2.5.0-cp310-cp310-manylinux1_x86_64.whl (906.4 MB)\n",
      "\u001b[2K   \u001b[90m━━━━━━━━━━━━━━━━━━━━━━━━━━━━━━━━━━━━━━━━\u001b[0m \u001b[32m906.4/906.4 MB\u001b[0m \u001b[31m12.9 MB/s\u001b[0m eta \u001b[36m0:00:00\u001b[0m00:01\u001b[0m00:01\u001b[0m\n",
      "\u001b[?25hDownloading nvidia_cublas_cu12-12.4.5.8-py3-none-manylinux2014_x86_64.whl (363.4 MB)\n",
      "\u001b[2K   \u001b[90m━━━━━━━━━━━━━━━━━━━━━━━━━━━━━━━━━━━━━━━━\u001b[0m \u001b[32m363.4/363.4 MB\u001b[0m \u001b[31m21.1 MB/s\u001b[0m eta \u001b[36m0:00:00\u001b[0m00:01\u001b[0m00:01\u001b[0m\n",
      "\u001b[?25hDownloading nvidia_cuda_cupti_cu12-12.4.127-py3-none-manylinux2014_x86_64.whl (13.8 MB)\n",
      "\u001b[2K   \u001b[90m━━━━━━━━━━━━━━━━━━━━━━━━━━━━━━━━━━━━━━━━\u001b[0m \u001b[32m13.8/13.8 MB\u001b[0m \u001b[31m4.3 MB/s\u001b[0m eta \u001b[36m0:00:00\u001b[0m0:00:01\u001b[0m\n",
      "\u001b[?25hDownloading nvidia_cuda_nvrtc_cu12-12.4.127-py3-none-manylinux2014_x86_64.whl (24.6 MB)\n",
      "\u001b[2K   \u001b[90m━━━━━━━━━━━━━━━━━━━━━━━━━━━━━━━━━━━━━━━━\u001b[0m \u001b[32m24.6/24.6 MB\u001b[0m \u001b[31m10.4 MB/s\u001b[0m eta \u001b[36m0:00:00\u001b[0m:00:01\u001b[0m\n",
      "\u001b[?25hDownloading nvidia_cuda_runtime_cu12-12.4.127-py3-none-manylinux2014_x86_64.whl (883 kB)\n",
      "\u001b[2K   \u001b[90m━━━━━━━━━━━━━━━━━━━━━━━━━━━━━━━━━━━━━━━━\u001b[0m \u001b[32m883.7/883.7 kB\u001b[0m \u001b[31m40.3 MB/s\u001b[0m eta \u001b[36m0:00:00\u001b[0m\n",
      "\u001b[?25hDownloading nvidia_cudnn_cu12-9.1.0.70-py3-none-manylinux2014_x86_64.whl (664.8 MB)\n",
      "\u001b[2K   \u001b[90m━━━━━━━━━━━━━━━━━━━━━━━━━━━━━━━━━━━━━━━━\u001b[0m \u001b[32m664.8/664.8 MB\u001b[0m \u001b[31m17.7 MB/s\u001b[0m eta \u001b[36m0:00:00\u001b[0m00:01\u001b[0m00:01\u001b[0m\n",
      "\u001b[?25hDownloading nvidia_cufft_cu12-11.2.1.3-py3-none-manylinux2014_x86_64.whl (211.5 MB)\n",
      "\u001b[2K   \u001b[90m━━━━━━━━━━━━━━━━━━━━━━━━━━━━━━━━━━━━━━━━\u001b[0m \u001b[32m211.5/211.5 MB\u001b[0m \u001b[31m23.4 MB/s\u001b[0m eta \u001b[36m0:00:00\u001b[0m00:01\u001b[0m00:01\u001b[0m\n",
      "\u001b[?25hDownloading nvidia_curand_cu12-10.3.5.147-py3-none-manylinux2014_x86_64.whl (56.3 MB)\n",
      "\u001b[2K   \u001b[90m━━━━━━━━━━━━━━━━━━━━━━━━━━━━━━━━━━━━━━━━\u001b[0m \u001b[32m56.3/56.3 MB\u001b[0m \u001b[31m14.1 MB/s\u001b[0m eta \u001b[36m0:00:00\u001b[0m:00:01\u001b[0m00:01\u001b[0m\n",
      "\u001b[?25hDownloading nvidia_cusolver_cu12-11.6.1.9-py3-none-manylinux2014_x86_64.whl (127.9 MB)\n",
      "\u001b[2K   \u001b[90m━━━━━━━━━━━━━━━━━━━━━━━━━━━━━━━━━━━━━━━━\u001b[0m \u001b[32m127.9/127.9 MB\u001b[0m \u001b[31m24.8 MB/s\u001b[0m eta \u001b[36m0:00:00\u001b[0m00:01\u001b[0m00:01\u001b[0m\n",
      "\u001b[?25hDownloading nvidia_cusparse_cu12-12.3.1.170-py3-none-manylinux2014_x86_64.whl (207.5 MB)\n",
      "\u001b[2K   \u001b[90m━━━━━━━━━━━━━━━━━━━━━━━━━━━━━━━━━━━━━━━━\u001b[0m \u001b[32m207.5/207.5 MB\u001b[0m \u001b[31m46.7 MB/s\u001b[0m eta \u001b[36m0:00:00\u001b[0m00:01\u001b[0m00:01\u001b[0m\n",
      "\u001b[?25hDownloading nvidia_nccl_cu12-2.21.5-py3-none-manylinux2014_x86_64.whl (188.7 MB)\n",
      "\u001b[2K   \u001b[90m━━━━━━━━━━━━━━━━━━━━━━━━━━━━━━━━━━━━━━━━\u001b[0m \u001b[32m188.7/188.7 MB\u001b[0m \u001b[31m47.6 MB/s\u001b[0m eta \u001b[36m0:00:00\u001b[0m00:01\u001b[0m00:01\u001b[0m\n",
      "\u001b[?25hDownloading nvidia_nvjitlink_cu12-12.4.127-py3-none-manylinux2014_x86_64.whl (21.1 MB)\n",
      "\u001b[2K   \u001b[90m━━━━━━━━━━━━━━━━━━━━━━━━━━━━━━━━━━━━━━━━\u001b[0m \u001b[32m21.1/21.1 MB\u001b[0m \u001b[31m42.7 MB/s\u001b[0m eta \u001b[36m0:00:00\u001b[0m:00:01\u001b[0m\n",
      "\u001b[?25hDownloading nvidia_nvtx_cu12-12.4.127-py3-none-manylinux2014_x86_64.whl (99 kB)\n",
      "Downloading sympy-1.13.1-py3-none-any.whl (6.2 MB)\n",
      "\u001b[2K   \u001b[90m━━━━━━━━━━━━━━━━━━━━━━━━━━━━━━━━━━━━━━━━\u001b[0m \u001b[32m6.2/6.2 MB\u001b[0m \u001b[31m77.4 MB/s\u001b[0m eta \u001b[36m0:00:00\u001b[0m\n",
      "\u001b[?25hDownloading triton-3.1.0-cp310-cp310-manylinux_2_17_x86_64.manylinux2014_x86_64.whl (209.5 MB)\n",
      "\u001b[2K   \u001b[90m━━━━━━━━━━━━━━━━━━━━━━━━━━━━━━━━━━━━━━━━\u001b[0m \u001b[32m209.5/209.5 MB\u001b[0m \u001b[31m45.5 MB/s\u001b[0m eta \u001b[36m0:00:00\u001b[0m00:01\u001b[0m00:01\u001b[0m\n",
      "\u001b[?25hDownloading tqdm-4.66.5-py3-none-any.whl (78 kB)\n",
      "Downloading transformers-4.46.0-py3-none-any.whl (10.0 MB)\n",
      "\u001b[2K   \u001b[90m━━━━━━━━━━━━━━━━━━━━━━━━━━━━━━━━━━━━━━━━\u001b[0m \u001b[32m10.0/10.0 MB\u001b[0m \u001b[31m70.8 MB/s\u001b[0m eta \u001b[36m0:00:00\u001b[0m\n",
      "\u001b[?25hDownloading pillow-11.0.0-cp310-cp310-manylinux_2_28_x86_64.whl (4.4 MB)\n",
      "\u001b[2K   \u001b[90m━━━━━━━━━━━━━━━━━━━━━━━━━━━━━━━━━━━━━━━━\u001b[0m \u001b[32m4.4/4.4 MB\u001b[0m \u001b[31m63.1 MB/s\u001b[0m eta \u001b[36m0:00:00\u001b[0m\n",
      "\u001b[?25hDownloading scikit_learn-1.5.2-cp310-cp310-manylinux_2_17_x86_64.manylinux2014_x86_64.whl (13.3 MB)\n",
      "\u001b[2K   \u001b[90m━━━━━━━━━━━━━━━━━━━━━━━━━━━━━━━━━━━━━━━━\u001b[0m \u001b[32m13.3/13.3 MB\u001b[0m \u001b[31m54.5 MB/s\u001b[0m eta \u001b[36m0:00:00\u001b[0m:00:01\u001b[0m\n",
      "\u001b[?25hDownloading scipy-1.14.1-cp310-cp310-manylinux_2_17_x86_64.manylinux2014_x86_64.whl (41.2 MB)\n",
      "\u001b[2K   \u001b[90m━━━━━━━━━━━━━━━━━━━━━━━━━━━━━━━━━━━━━━━━\u001b[0m \u001b[32m41.2/41.2 MB\u001b[0m \u001b[31m37.4 MB/s\u001b[0m eta \u001b[36m0:00:00\u001b[0m:00:01\u001b[0m00:01\u001b[0m\n",
      "\u001b[?25hDownloading fsspec-2024.10.0-py3-none-any.whl (179 kB)\n",
      "Downloading joblib-1.4.2-py3-none-any.whl (301 kB)\n",
      "Downloading PyYAML-6.0.2-cp310-cp310-manylinux_2_17_x86_64.manylinux2014_x86_64.whl (751 kB)\n",
      "\u001b[2K   \u001b[90m━━━━━━━━━━━━━━━━━━━━━━━━━━━━━━━━━━━━━━━━\u001b[0m \u001b[32m751.2/751.2 kB\u001b[0m \u001b[31m37.3 MB/s\u001b[0m eta \u001b[36m0:00:00\u001b[0m\n",
      "\u001b[?25hDownloading regex-2024.9.11-cp310-cp310-manylinux_2_17_x86_64.manylinux2014_x86_64.whl (782 kB)\n",
      "\u001b[2K   \u001b[90m━━━━━━━━━━━━━━━━━━━━━━━━━━━━━━━━━━━━━━━━\u001b[0m \u001b[32m782.7/782.7 kB\u001b[0m \u001b[31m38.8 MB/s\u001b[0m eta \u001b[36m0:00:00\u001b[0m\n",
      "\u001b[?25hDownloading safetensors-0.4.5-cp310-cp310-manylinux_2_17_x86_64.manylinux2014_x86_64.whl (435 kB)\n",
      "Downloading threadpoolctl-3.5.0-py3-none-any.whl (18 kB)\n",
      "Downloading tokenizers-0.20.1-cp310-cp310-manylinux_2_17_x86_64.manylinux2014_x86_64.whl (3.0 MB)\n",
      "\u001b[2K   \u001b[90m━━━━━━━━━━━━━━━━━━━━━━━━━━━━━━━━━━━━━━━━\u001b[0m \u001b[32m3.0/3.0 MB\u001b[0m \u001b[31m94.7 MB/s\u001b[0m eta \u001b[36m0:00:00\u001b[0m\n",
      "\u001b[?25hDownloading filelock-3.16.1-py3-none-any.whl (16 kB)\n",
      "Downloading jinja2-3.1.4-py3-none-any.whl (133 kB)\n",
      "Downloading networkx-3.4.2-py3-none-any.whl (1.7 MB)\n",
      "\u001b[2K   \u001b[90m━━━━━━━━━━━━━━━━━━━━━━━━━━━━━━━━━━━━━━━━\u001b[0m \u001b[32m1.7/1.7 MB\u001b[0m \u001b[31m77.8 MB/s\u001b[0m eta \u001b[36m0:00:00\u001b[0m\n",
      "\u001b[?25hDownloading requests-2.32.3-py3-none-any.whl (64 kB)\n",
      "Downloading certifi-2024.8.30-py3-none-any.whl (167 kB)\n",
      "Downloading charset_normalizer-3.4.0-cp310-cp310-manylinux_2_17_x86_64.manylinux2014_x86_64.whl (144 kB)\n",
      "Downloading idna-3.10-py3-none-any.whl (70 kB)\n",
      "Downloading MarkupSafe-3.0.2-cp310-cp310-manylinux_2_17_x86_64.manylinux2014_x86_64.whl (20 kB)\n",
      "Downloading mpmath-1.3.0-py3-none-any.whl (536 kB)\n",
      "\u001b[2K   \u001b[90m━━━━━━━━━━━━━━━━━━━━━━━━━━━━━━━━━━━━━━━━\u001b[0m \u001b[32m536.2/536.2 kB\u001b[0m \u001b[31m23.9 MB/s\u001b[0m eta \u001b[36m0:00:00\u001b[0m\n",
      "\u001b[?25hDownloading urllib3-2.2.3-py3-none-any.whl (126 kB)\n",
      "Installing collected packages: mpmath, urllib3, tqdm, threadpoolctl, sympy, scipy, safetensors, regex, pyyaml, Pillow, nvidia-nvtx-cu12, nvidia-nvjitlink-cu12, nvidia-nccl-cu12, nvidia-curand-cu12, nvidia-cufft-cu12, nvidia-cuda-runtime-cu12, nvidia-cuda-nvrtc-cu12, nvidia-cuda-cupti-cu12, nvidia-cublas-cu12, networkx, MarkupSafe, joblib, idna, fsspec, filelock, charset-normalizer, certifi, triton, scikit-learn, requests, nvidia-cusparse-cu12, nvidia-cudnn-cu12, jinja2, nvidia-cusolver-cu12, huggingface-hub, torch, tokenizers, transformers, sentence_transformers\n",
      "Successfully installed MarkupSafe-3.0.2 Pillow-11.0.0 certifi-2024.8.30 charset-normalizer-3.4.0 filelock-3.16.1 fsspec-2024.10.0 huggingface-hub-0.26.1 idna-3.10 jinja2-3.1.4 joblib-1.4.2 mpmath-1.3.0 networkx-3.4.2 nvidia-cublas-cu12-12.4.5.8 nvidia-cuda-cupti-cu12-12.4.127 nvidia-cuda-nvrtc-cu12-12.4.127 nvidia-cuda-runtime-cu12-12.4.127 nvidia-cudnn-cu12-9.1.0.70 nvidia-cufft-cu12-11.2.1.3 nvidia-curand-cu12-10.3.5.147 nvidia-cusolver-cu12-11.6.1.9 nvidia-cusparse-cu12-12.3.1.170 nvidia-nccl-cu12-2.21.5 nvidia-nvjitlink-cu12-12.4.127 nvidia-nvtx-cu12-12.4.127 pyyaml-6.0.2 regex-2024.9.11 requests-2.32.3 safetensors-0.4.5 scikit-learn-1.5.2 scipy-1.14.1 sentence_transformers-3.2.1 sympy-1.13.1 threadpoolctl-3.5.0 tokenizers-0.20.1 torch-2.5.0 tqdm-4.66.5 transformers-4.46.0 triton-3.1.0 urllib3-2.2.3\n",
      "Note: you may need to restart the kernel to use updated packages.\n"
     ]
    }
   ],
   "source": [
    "pip install sentence_transformers"
   ]
  },
  {
   "cell_type": "code",
   "execution_count": 15,
   "metadata": {},
   "outputs": [
    {
     "name": "stdout",
     "output_type": "stream",
     "text": [
      "Collecting langchain\n",
      "  Downloading langchain-0.3.4-py3-none-any.whl.metadata (7.1 kB)\n",
      "Collecting langchain-community\n",
      "  Downloading langchain_community-0.3.3-py3-none-any.whl.metadata (2.8 kB)\n",
      "Collecting pypdf\n",
      "  Downloading pypdf-5.1.0-py3-none-any.whl.metadata (7.2 kB)\n",
      "Collecting pdfplumber\n",
      "  Downloading pdfplumber-0.11.4-py3-none-any.whl.metadata (41 kB)\n",
      "Collecting faiss-cpu\n",
      "  Downloading faiss_cpu-1.9.0-cp310-cp310-manylinux_2_17_x86_64.manylinux2014_x86_64.whl.metadata (4.4 kB)\n",
      "Requirement already satisfied: PyYAML>=5.3 in ./.venv/lib/python3.10/site-packages (from langchain) (6.0.2)\n",
      "Collecting SQLAlchemy<3,>=1.4 (from langchain)\n",
      "  Downloading SQLAlchemy-2.0.36-cp310-cp310-manylinux_2_17_x86_64.manylinux2014_x86_64.whl.metadata (9.7 kB)\n",
      "Collecting aiohttp<4.0.0,>=3.8.3 (from langchain)\n",
      "  Downloading aiohttp-3.10.10-cp310-cp310-manylinux_2_17_x86_64.manylinux2014_x86_64.whl.metadata (7.6 kB)\n",
      "Collecting async-timeout<5.0.0,>=4.0.0 (from langchain)\n",
      "  Downloading async_timeout-4.0.3-py3-none-any.whl.metadata (4.2 kB)\n",
      "Collecting langchain-core<0.4.0,>=0.3.12 (from langchain)\n",
      "  Downloading langchain_core-0.3.13-py3-none-any.whl.metadata (6.3 kB)\n",
      "Collecting langchain-text-splitters<0.4.0,>=0.3.0 (from langchain)\n",
      "  Downloading langchain_text_splitters-0.3.0-py3-none-any.whl.metadata (2.3 kB)\n",
      "Collecting langsmith<0.2.0,>=0.1.17 (from langchain)\n",
      "  Downloading langsmith-0.1.137-py3-none-any.whl.metadata (13 kB)\n",
      "Collecting numpy<2,>=1 (from langchain)\n",
      "  Downloading numpy-1.26.4-cp310-cp310-manylinux_2_17_x86_64.manylinux2014_x86_64.whl.metadata (61 kB)\n",
      "Collecting pydantic<3.0.0,>=2.7.4 (from langchain)\n",
      "  Downloading pydantic-2.9.2-py3-none-any.whl.metadata (149 kB)\n",
      "Requirement already satisfied: requests<3,>=2 in ./.venv/lib/python3.10/site-packages (from langchain) (2.32.3)\n",
      "Collecting tenacity!=8.4.0,<10,>=8.1.0 (from langchain)\n",
      "  Downloading tenacity-9.0.0-py3-none-any.whl.metadata (1.2 kB)\n",
      "Collecting dataclasses-json<0.7,>=0.5.7 (from langchain-community)\n",
      "  Downloading dataclasses_json-0.6.7-py3-none-any.whl.metadata (25 kB)\n",
      "Collecting pydantic-settings<3.0.0,>=2.4.0 (from langchain-community)\n",
      "  Downloading pydantic_settings-2.6.0-py3-none-any.whl.metadata (3.5 kB)\n",
      "Requirement already satisfied: typing_extensions>=4.0 in ./.venv/lib/python3.10/site-packages (from pypdf) (4.12.2)\n",
      "Collecting pdfminer.six==20231228 (from pdfplumber)\n",
      "  Downloading pdfminer.six-20231228-py3-none-any.whl.metadata (4.2 kB)\n",
      "Requirement already satisfied: Pillow>=9.1 in ./.venv/lib/python3.10/site-packages (from pdfplumber) (11.0.0)\n",
      "Collecting pypdfium2>=4.18.0 (from pdfplumber)\n",
      "  Downloading pypdfium2-4.30.0-py3-none-manylinux_2_17_x86_64.manylinux2014_x86_64.whl.metadata (48 kB)\n",
      "Requirement already satisfied: charset-normalizer>=2.0.0 in ./.venv/lib/python3.10/site-packages (from pdfminer.six==20231228->pdfplumber) (3.4.0)\n",
      "Collecting cryptography>=36.0.0 (from pdfminer.six==20231228->pdfplumber)\n",
      "  Downloading cryptography-43.0.3-cp39-abi3-manylinux_2_28_x86_64.whl.metadata (5.4 kB)\n",
      "Requirement already satisfied: packaging in ./.venv/lib/python3.10/site-packages (from faiss-cpu) (24.1)\n",
      "Collecting aiohappyeyeballs>=2.3.0 (from aiohttp<4.0.0,>=3.8.3->langchain)\n",
      "  Downloading aiohappyeyeballs-2.4.3-py3-none-any.whl.metadata (6.1 kB)\n",
      "Collecting aiosignal>=1.1.2 (from aiohttp<4.0.0,>=3.8.3->langchain)\n",
      "  Downloading aiosignal-1.3.1-py3-none-any.whl.metadata (4.0 kB)\n",
      "Collecting attrs>=17.3.0 (from aiohttp<4.0.0,>=3.8.3->langchain)\n",
      "  Downloading attrs-24.2.0-py3-none-any.whl.metadata (11 kB)\n",
      "Collecting frozenlist>=1.1.1 (from aiohttp<4.0.0,>=3.8.3->langchain)\n",
      "  Downloading frozenlist-1.5.0-cp310-cp310-manylinux_2_5_x86_64.manylinux1_x86_64.manylinux_2_17_x86_64.manylinux2014_x86_64.whl.metadata (13 kB)\n",
      "Collecting multidict<7.0,>=4.5 (from aiohttp<4.0.0,>=3.8.3->langchain)\n",
      "  Downloading multidict-6.1.0-cp310-cp310-manylinux_2_17_x86_64.manylinux2014_x86_64.whl.metadata (5.0 kB)\n",
      "Collecting yarl<2.0,>=1.12.0 (from aiohttp<4.0.0,>=3.8.3->langchain)\n",
      "  Downloading yarl-1.16.0-cp310-cp310-manylinux_2_17_x86_64.manylinux2014_x86_64.whl.metadata (63 kB)\n",
      "Collecting marshmallow<4.0.0,>=3.18.0 (from dataclasses-json<0.7,>=0.5.7->langchain-community)\n",
      "  Downloading marshmallow-3.23.0-py3-none-any.whl.metadata (7.6 kB)\n",
      "Collecting typing-inspect<1,>=0.4.0 (from dataclasses-json<0.7,>=0.5.7->langchain-community)\n",
      "  Downloading typing_inspect-0.9.0-py3-none-any.whl.metadata (1.5 kB)\n",
      "Collecting jsonpatch<2.0,>=1.33 (from langchain-core<0.4.0,>=0.3.12->langchain)\n",
      "  Downloading jsonpatch-1.33-py2.py3-none-any.whl.metadata (3.0 kB)\n",
      "Collecting httpx<1,>=0.23.0 (from langsmith<0.2.0,>=0.1.17->langchain)\n",
      "  Downloading httpx-0.27.2-py3-none-any.whl.metadata (7.1 kB)\n",
      "Collecting orjson<4.0.0,>=3.9.14 (from langsmith<0.2.0,>=0.1.17->langchain)\n",
      "  Downloading orjson-3.10.10-cp310-cp310-manylinux_2_17_x86_64.manylinux2014_x86_64.whl.metadata (50 kB)\n",
      "Collecting requests-toolbelt<2.0.0,>=1.0.0 (from langsmith<0.2.0,>=0.1.17->langchain)\n",
      "  Downloading requests_toolbelt-1.0.0-py2.py3-none-any.whl.metadata (14 kB)\n",
      "Collecting annotated-types>=0.6.0 (from pydantic<3.0.0,>=2.7.4->langchain)\n",
      "  Downloading annotated_types-0.7.0-py3-none-any.whl.metadata (15 kB)\n",
      "Collecting pydantic-core==2.23.4 (from pydantic<3.0.0,>=2.7.4->langchain)\n",
      "  Downloading pydantic_core-2.23.4-cp310-cp310-manylinux_2_17_x86_64.manylinux2014_x86_64.whl.metadata (6.6 kB)\n",
      "Collecting python-dotenv>=0.21.0 (from pydantic-settings<3.0.0,>=2.4.0->langchain-community)\n",
      "  Downloading python_dotenv-1.0.1-py3-none-any.whl.metadata (23 kB)\n",
      "Requirement already satisfied: idna<4,>=2.5 in ./.venv/lib/python3.10/site-packages (from requests<3,>=2->langchain) (3.10)\n",
      "Requirement already satisfied: urllib3<3,>=1.21.1 in ./.venv/lib/python3.10/site-packages (from requests<3,>=2->langchain) (2.2.3)\n",
      "Requirement already satisfied: certifi>=2017.4.17 in ./.venv/lib/python3.10/site-packages (from requests<3,>=2->langchain) (2024.8.30)\n",
      "Collecting greenlet!=0.4.17 (from SQLAlchemy<3,>=1.4->langchain)\n",
      "  Downloading greenlet-3.1.1-cp310-cp310-manylinux_2_24_x86_64.manylinux_2_28_x86_64.whl.metadata (3.8 kB)\n",
      "Collecting cffi>=1.12 (from cryptography>=36.0.0->pdfminer.six==20231228->pdfplumber)\n",
      "  Downloading cffi-1.17.1-cp310-cp310-manylinux_2_17_x86_64.manylinux2014_x86_64.whl.metadata (1.5 kB)\n",
      "Collecting anyio (from httpx<1,>=0.23.0->langsmith<0.2.0,>=0.1.17->langchain)\n",
      "  Downloading anyio-4.6.2.post1-py3-none-any.whl.metadata (4.7 kB)\n",
      "Collecting httpcore==1.* (from httpx<1,>=0.23.0->langsmith<0.2.0,>=0.1.17->langchain)\n",
      "  Downloading httpcore-1.0.6-py3-none-any.whl.metadata (21 kB)\n",
      "Collecting sniffio (from httpx<1,>=0.23.0->langsmith<0.2.0,>=0.1.17->langchain)\n",
      "  Downloading sniffio-1.3.1-py3-none-any.whl.metadata (3.9 kB)\n",
      "Collecting h11<0.15,>=0.13 (from httpcore==1.*->httpx<1,>=0.23.0->langsmith<0.2.0,>=0.1.17->langchain)\n",
      "  Downloading h11-0.14.0-py3-none-any.whl.metadata (8.2 kB)\n",
      "Collecting jsonpointer>=1.9 (from jsonpatch<2.0,>=1.33->langchain-core<0.4.0,>=0.3.12->langchain)\n",
      "  Downloading jsonpointer-3.0.0-py2.py3-none-any.whl.metadata (2.3 kB)\n",
      "Collecting mypy-extensions>=0.3.0 (from typing-inspect<1,>=0.4.0->dataclasses-json<0.7,>=0.5.7->langchain-community)\n",
      "  Downloading mypy_extensions-1.0.0-py3-none-any.whl.metadata (1.1 kB)\n",
      "Collecting propcache>=0.2.0 (from yarl<2.0,>=1.12.0->aiohttp<4.0.0,>=3.8.3->langchain)\n",
      "  Downloading propcache-0.2.0-cp310-cp310-manylinux_2_17_x86_64.manylinux2014_x86_64.whl.metadata (7.7 kB)\n",
      "Collecting pycparser (from cffi>=1.12->cryptography>=36.0.0->pdfminer.six==20231228->pdfplumber)\n",
      "  Downloading pycparser-2.22-py3-none-any.whl.metadata (943 bytes)\n",
      "Requirement already satisfied: exceptiongroup>=1.0.2 in ./.venv/lib/python3.10/site-packages (from anyio->httpx<1,>=0.23.0->langsmith<0.2.0,>=0.1.17->langchain) (1.2.2)\n",
      "Downloading langchain-0.3.4-py3-none-any.whl (1.0 MB)\n",
      "\u001b[2K   \u001b[90m━━━━━━━━━━━━━━━━━━━━━━━━━━━━━━━━━━━━━━━━\u001b[0m \u001b[32m1.0/1.0 MB\u001b[0m \u001b[31m24.1 MB/s\u001b[0m eta \u001b[36m0:00:00\u001b[0m\n",
      "\u001b[?25hDownloading langchain_community-0.3.3-py3-none-any.whl (2.4 MB)\n",
      "\u001b[2K   \u001b[90m━━━━━━━━━━━━━━━━━━━━━━━━━━━━━━━━━━━━━━━━\u001b[0m \u001b[32m2.4/2.4 MB\u001b[0m \u001b[31m55.8 MB/s\u001b[0m eta \u001b[36m0:00:00\u001b[0m\n",
      "\u001b[?25hDownloading pypdf-5.1.0-py3-none-any.whl (297 kB)\n",
      "Downloading pdfplumber-0.11.4-py3-none-any.whl (59 kB)\n",
      "Downloading pdfminer.six-20231228-py3-none-any.whl (5.6 MB)\n",
      "\u001b[2K   \u001b[90m━━━━━━━━━━━━━━━━━━━━━━━━━━━━━━━━━━━━━━━━\u001b[0m \u001b[32m5.6/5.6 MB\u001b[0m \u001b[31m66.7 MB/s\u001b[0m eta \u001b[36m0:00:00\u001b[0m\n",
      "\u001b[?25hDownloading faiss_cpu-1.9.0-cp310-cp310-manylinux_2_17_x86_64.manylinux2014_x86_64.whl (27.5 MB)\n",
      "\u001b[2K   \u001b[90m━━━━━━━━━━━━━━━━━━━━━━━━━━━━━━━━━━━━━━━━\u001b[0m \u001b[32m27.5/27.5 MB\u001b[0m \u001b[31m37.7 MB/s\u001b[0m eta \u001b[36m0:00:00\u001b[0m:00:01\u001b[0m\n",
      "\u001b[?25hDownloading aiohttp-3.10.10-cp310-cp310-manylinux_2_17_x86_64.manylinux2014_x86_64.whl (1.2 MB)\n",
      "\u001b[2K   \u001b[90m━━━━━━━━━━━━━━━━━━━━━━━━━━━━━━━━━━━━━━━━\u001b[0m \u001b[32m1.2/1.2 MB\u001b[0m \u001b[31m51.5 MB/s\u001b[0m eta \u001b[36m0:00:00\u001b[0m\n",
      "\u001b[?25hDownloading async_timeout-4.0.3-py3-none-any.whl (5.7 kB)\n",
      "Downloading dataclasses_json-0.6.7-py3-none-any.whl (28 kB)\n",
      "Downloading langchain_core-0.3.13-py3-none-any.whl (408 kB)\n",
      "Downloading langchain_text_splitters-0.3.0-py3-none-any.whl (25 kB)\n",
      "Downloading langsmith-0.1.137-py3-none-any.whl (296 kB)\n",
      "Downloading numpy-1.26.4-cp310-cp310-manylinux_2_17_x86_64.manylinux2014_x86_64.whl (18.2 MB)\n",
      "\u001b[2K   \u001b[90m━━━━━━━━━━━━━━━━━━━━━━━━━━━━━━━━━━━━━━━━\u001b[0m \u001b[32m18.2/18.2 MB\u001b[0m \u001b[31m43.7 MB/s\u001b[0m eta \u001b[36m0:00:00\u001b[0m:00:01\u001b[0m\n",
      "\u001b[?25hDownloading pydantic-2.9.2-py3-none-any.whl (434 kB)\n",
      "Downloading pydantic_core-2.23.4-cp310-cp310-manylinux_2_17_x86_64.manylinux2014_x86_64.whl (2.1 MB)\n",
      "\u001b[2K   \u001b[90m━━━━━━━━━━━━━━━━━━━━━━━━━━━━━━━━━━━━━━━━\u001b[0m \u001b[32m2.1/2.1 MB\u001b[0m \u001b[31m64.2 MB/s\u001b[0m eta \u001b[36m0:00:00\u001b[0m\n",
      "\u001b[?25hDownloading pydantic_settings-2.6.0-py3-none-any.whl (28 kB)\n",
      "Downloading pypdfium2-4.30.0-py3-none-manylinux_2_17_x86_64.manylinux2014_x86_64.whl (2.8 MB)\n",
      "\u001b[2K   \u001b[90m━━━━━━━━━━━━━━━━━━━━━━━━━━━━━━━━━━━━━━━━\u001b[0m \u001b[32m2.8/2.8 MB\u001b[0m \u001b[31m98.0 MB/s\u001b[0m eta \u001b[36m0:00:00\u001b[0m\n",
      "\u001b[?25hDownloading SQLAlchemy-2.0.36-cp310-cp310-manylinux_2_17_x86_64.manylinux2014_x86_64.whl (3.1 MB)\n",
      "\u001b[2K   \u001b[90m━━━━━━━━━━━━━━━━━━━━━━━━━━━━━━━━━━━━━━━━\u001b[0m \u001b[32m3.1/3.1 MB\u001b[0m \u001b[31m106.0 MB/s\u001b[0m eta \u001b[36m0:00:00\u001b[0m\n",
      "\u001b[?25hDownloading tenacity-9.0.0-py3-none-any.whl (28 kB)\n",
      "Downloading aiohappyeyeballs-2.4.3-py3-none-any.whl (14 kB)\n",
      "Downloading aiosignal-1.3.1-py3-none-any.whl (7.6 kB)\n",
      "Downloading annotated_types-0.7.0-py3-none-any.whl (13 kB)\n",
      "Downloading attrs-24.2.0-py3-none-any.whl (63 kB)\n",
      "Downloading cryptography-43.0.3-cp39-abi3-manylinux_2_28_x86_64.whl (4.0 MB)\n",
      "\u001b[2K   \u001b[90m━━━━━━━━━━━━━━━━━━━━━━━━━━━━━━━━━━━━━━━━\u001b[0m \u001b[32m4.0/4.0 MB\u001b[0m \u001b[31m43.4 MB/s\u001b[0m eta \u001b[36m0:00:00\u001b[0m\n",
      "\u001b[?25hDownloading frozenlist-1.5.0-cp310-cp310-manylinux_2_5_x86_64.manylinux1_x86_64.manylinux_2_17_x86_64.manylinux2014_x86_64.whl (241 kB)\n",
      "Downloading greenlet-3.1.1-cp310-cp310-manylinux_2_24_x86_64.manylinux_2_28_x86_64.whl (599 kB)\n",
      "\u001b[2K   \u001b[90m━━━━━━━━━━━━━━━━━━━━━━━━━━━━━━━━━━━━━━━━\u001b[0m \u001b[32m599.5/599.5 kB\u001b[0m \u001b[31m22.0 MB/s\u001b[0m eta \u001b[36m0:00:00\u001b[0m\n",
      "\u001b[?25hDownloading httpx-0.27.2-py3-none-any.whl (76 kB)\n",
      "Downloading httpcore-1.0.6-py3-none-any.whl (78 kB)\n",
      "Downloading jsonpatch-1.33-py2.py3-none-any.whl (12 kB)\n",
      "Downloading marshmallow-3.23.0-py3-none-any.whl (49 kB)\n",
      "Downloading multidict-6.1.0-cp310-cp310-manylinux_2_17_x86_64.manylinux2014_x86_64.whl (124 kB)\n",
      "Downloading orjson-3.10.10-cp310-cp310-manylinux_2_17_x86_64.manylinux2014_x86_64.whl (144 kB)\n",
      "Downloading python_dotenv-1.0.1-py3-none-any.whl (19 kB)\n",
      "Downloading requests_toolbelt-1.0.0-py2.py3-none-any.whl (54 kB)\n",
      "Downloading typing_inspect-0.9.0-py3-none-any.whl (8.8 kB)\n",
      "Downloading yarl-1.16.0-cp310-cp310-manylinux_2_17_x86_64.manylinux2014_x86_64.whl (318 kB)\n",
      "Downloading cffi-1.17.1-cp310-cp310-manylinux_2_17_x86_64.manylinux2014_x86_64.whl (446 kB)\n",
      "Downloading jsonpointer-3.0.0-py2.py3-none-any.whl (7.6 kB)\n",
      "Downloading mypy_extensions-1.0.0-py3-none-any.whl (4.7 kB)\n",
      "Downloading propcache-0.2.0-cp310-cp310-manylinux_2_17_x86_64.manylinux2014_x86_64.whl (208 kB)\n",
      "Downloading anyio-4.6.2.post1-py3-none-any.whl (90 kB)\n",
      "Downloading sniffio-1.3.1-py3-none-any.whl (10 kB)\n",
      "Downloading h11-0.14.0-py3-none-any.whl (58 kB)\n",
      "Downloading pycparser-2.22-py3-none-any.whl (117 kB)\n",
      "Installing collected packages: tenacity, sniffio, python-dotenv, pypdfium2, pypdf, pydantic-core, pycparser, propcache, orjson, numpy, mypy-extensions, multidict, marshmallow, jsonpointer, h11, greenlet, frozenlist, attrs, async-timeout, annotated-types, aiohappyeyeballs, yarl, typing-inspect, SQLAlchemy, requests-toolbelt, pydantic, jsonpatch, httpcore, faiss-cpu, cffi, anyio, aiosignal, pydantic-settings, httpx, dataclasses-json, cryptography, aiohttp, pdfminer.six, langsmith, pdfplumber, langchain-core, langchain-text-splitters, langchain, langchain-community\n",
      "  Attempting uninstall: numpy\n",
      "    Found existing installation: numpy 2.1.2\n",
      "    Uninstalling numpy-2.1.2:\n",
      "      Successfully uninstalled numpy-2.1.2\n",
      "Successfully installed SQLAlchemy-2.0.36 aiohappyeyeballs-2.4.3 aiohttp-3.10.10 aiosignal-1.3.1 annotated-types-0.7.0 anyio-4.6.2.post1 async-timeout-4.0.3 attrs-24.2.0 cffi-1.17.1 cryptography-43.0.3 dataclasses-json-0.6.7 faiss-cpu-1.9.0 frozenlist-1.5.0 greenlet-3.1.1 h11-0.14.0 httpcore-1.0.6 httpx-0.27.2 jsonpatch-1.33 jsonpointer-3.0.0 langchain-0.3.4 langchain-community-0.3.3 langchain-core-0.3.13 langchain-text-splitters-0.3.0 langsmith-0.1.137 marshmallow-3.23.0 multidict-6.1.0 mypy-extensions-1.0.0 numpy-1.26.4 orjson-3.10.10 pdfminer.six-20231228 pdfplumber-0.11.4 propcache-0.2.0 pycparser-2.22 pydantic-2.9.2 pydantic-core-2.23.4 pydantic-settings-2.6.0 pypdf-5.1.0 pypdfium2-4.30.0 python-dotenv-1.0.1 requests-toolbelt-1.0.0 sniffio-1.3.1 tenacity-9.0.0 typing-inspect-0.9.0 yarl-1.16.0\n",
      "Note: you may need to restart the kernel to use updated packages.\n"
     ]
    }
   ],
   "source": [
    "pip install langchain langchain-community pypdf pdfplumber faiss-cpu"
   ]
  },
  {
   "cell_type": "code",
   "execution_count": null,
   "metadata": {},
   "outputs": [],
   "source": [
    "pip install kiwipiepy"
   ]
  },
  {
   "cell_type": "code",
   "execution_count": 9,
   "metadata": {},
   "outputs": [
    {
     "name": "stderr",
     "output_type": "stream",
     "text": [
      "huggingface/tokenizers: The current process just got forked, after parallelism has already been used. Disabling parallelism to avoid deadlocks...\n",
      "To disable this warning, you can either:\n",
      "\t- Avoid using `tokenizers` before the fork if possible\n",
      "\t- Explicitly set the environment variable TOKENIZERS_PARALLELISM=(true | false)\n"
     ]
    },
    {
     "name": "stdout",
     "output_type": "stream",
     "text": [
      "Collecting langchain-ollama\n",
      "  Downloading langchain_ollama-0.2.0-py3-none-any.whl.metadata (1.8 kB)\n",
      "Requirement already satisfied: langchain-core<0.4.0,>=0.3.0 in ./.venv/lib/python3.10/site-packages (from langchain-ollama) (0.3.13)\n",
      "Collecting ollama<1,>=0.3.0 (from langchain-ollama)\n",
      "  Downloading ollama-0.3.3-py3-none-any.whl.metadata (3.8 kB)\n",
      "Requirement already satisfied: PyYAML>=5.3 in ./.venv/lib/python3.10/site-packages (from langchain-core<0.4.0,>=0.3.0->langchain-ollama) (6.0.2)\n",
      "Requirement already satisfied: jsonpatch<2.0,>=1.33 in ./.venv/lib/python3.10/site-packages (from langchain-core<0.4.0,>=0.3.0->langchain-ollama) (1.33)\n",
      "Requirement already satisfied: langsmith<0.2.0,>=0.1.125 in ./.venv/lib/python3.10/site-packages (from langchain-core<0.4.0,>=0.3.0->langchain-ollama) (0.1.137)\n",
      "Requirement already satisfied: packaging<25,>=23.2 in ./.venv/lib/python3.10/site-packages (from langchain-core<0.4.0,>=0.3.0->langchain-ollama) (24.1)\n",
      "Requirement already satisfied: pydantic<3.0.0,>=2.5.2 in ./.venv/lib/python3.10/site-packages (from langchain-core<0.4.0,>=0.3.0->langchain-ollama) (2.9.2)\n",
      "Requirement already satisfied: tenacity!=8.4.0,<10.0.0,>=8.1.0 in ./.venv/lib/python3.10/site-packages (from langchain-core<0.4.0,>=0.3.0->langchain-ollama) (9.0.0)\n",
      "Requirement already satisfied: typing-extensions>=4.7 in ./.venv/lib/python3.10/site-packages (from langchain-core<0.4.0,>=0.3.0->langchain-ollama) (4.12.2)\n",
      "Requirement already satisfied: httpx<0.28.0,>=0.27.0 in ./.venv/lib/python3.10/site-packages (from ollama<1,>=0.3.0->langchain-ollama) (0.27.2)\n",
      "Requirement already satisfied: anyio in ./.venv/lib/python3.10/site-packages (from httpx<0.28.0,>=0.27.0->ollama<1,>=0.3.0->langchain-ollama) (4.6.2.post1)\n",
      "Requirement already satisfied: certifi in ./.venv/lib/python3.10/site-packages (from httpx<0.28.0,>=0.27.0->ollama<1,>=0.3.0->langchain-ollama) (2024.8.30)\n",
      "Requirement already satisfied: httpcore==1.* in ./.venv/lib/python3.10/site-packages (from httpx<0.28.0,>=0.27.0->ollama<1,>=0.3.0->langchain-ollama) (1.0.6)\n",
      "Requirement already satisfied: idna in ./.venv/lib/python3.10/site-packages (from httpx<0.28.0,>=0.27.0->ollama<1,>=0.3.0->langchain-ollama) (3.10)\n",
      "Requirement already satisfied: sniffio in ./.venv/lib/python3.10/site-packages (from httpx<0.28.0,>=0.27.0->ollama<1,>=0.3.0->langchain-ollama) (1.3.1)\n",
      "Requirement already satisfied: h11<0.15,>=0.13 in ./.venv/lib/python3.10/site-packages (from httpcore==1.*->httpx<0.28.0,>=0.27.0->ollama<1,>=0.3.0->langchain-ollama) (0.14.0)\n",
      "Requirement already satisfied: jsonpointer>=1.9 in ./.venv/lib/python3.10/site-packages (from jsonpatch<2.0,>=1.33->langchain-core<0.4.0,>=0.3.0->langchain-ollama) (3.0.0)\n",
      "Requirement already satisfied: orjson<4.0.0,>=3.9.14 in ./.venv/lib/python3.10/site-packages (from langsmith<0.2.0,>=0.1.125->langchain-core<0.4.0,>=0.3.0->langchain-ollama) (3.10.10)\n",
      "Requirement already satisfied: requests<3,>=2 in ./.venv/lib/python3.10/site-packages (from langsmith<0.2.0,>=0.1.125->langchain-core<0.4.0,>=0.3.0->langchain-ollama) (2.32.3)\n",
      "Requirement already satisfied: requests-toolbelt<2.0.0,>=1.0.0 in ./.venv/lib/python3.10/site-packages (from langsmith<0.2.0,>=0.1.125->langchain-core<0.4.0,>=0.3.0->langchain-ollama) (1.0.0)\n",
      "Requirement already satisfied: annotated-types>=0.6.0 in ./.venv/lib/python3.10/site-packages (from pydantic<3.0.0,>=2.5.2->langchain-core<0.4.0,>=0.3.0->langchain-ollama) (0.7.0)\n",
      "Requirement already satisfied: pydantic-core==2.23.4 in ./.venv/lib/python3.10/site-packages (from pydantic<3.0.0,>=2.5.2->langchain-core<0.4.0,>=0.3.0->langchain-ollama) (2.23.4)\n",
      "Requirement already satisfied: charset-normalizer<4,>=2 in ./.venv/lib/python3.10/site-packages (from requests<3,>=2->langsmith<0.2.0,>=0.1.125->langchain-core<0.4.0,>=0.3.0->langchain-ollama) (3.4.0)\n",
      "Requirement already satisfied: urllib3<3,>=1.21.1 in ./.venv/lib/python3.10/site-packages (from requests<3,>=2->langsmith<0.2.0,>=0.1.125->langchain-core<0.4.0,>=0.3.0->langchain-ollama) (2.2.3)\n",
      "Requirement already satisfied: exceptiongroup>=1.0.2 in ./.venv/lib/python3.10/site-packages (from anyio->httpx<0.28.0,>=0.27.0->ollama<1,>=0.3.0->langchain-ollama) (1.2.2)\n",
      "Downloading langchain_ollama-0.2.0-py3-none-any.whl (14 kB)\n",
      "Downloading ollama-0.3.3-py3-none-any.whl (10 kB)\n",
      "Installing collected packages: ollama, langchain-ollama\n",
      "Successfully installed langchain-ollama-0.2.0 ollama-0.3.3\n",
      "Note: you may need to restart the kernel to use updated packages.\n"
     ]
    }
   ],
   "source": [
    "pip install langchain-ollama"
   ]
  },
  {
   "cell_type": "code",
   "execution_count": 16,
   "metadata": {},
   "outputs": [
    {
     "name": "stdout",
     "output_type": "stream",
     "text": [
      "Collecting rank_bm25\n",
      "  Downloading rank_bm25-0.2.2-py3-none-any.whl.metadata (3.2 kB)\n",
      "Requirement already satisfied: numpy in ./.venv/lib/python3.10/site-packages (from rank_bm25) (1.26.4)\n",
      "Downloading rank_bm25-0.2.2-py3-none-any.whl (8.6 kB)\n",
      "Installing collected packages: rank_bm25\n",
      "Successfully installed rank_bm25-0.2.2\n",
      "Note: you may need to restart the kernel to use updated packages.\n"
     ]
    }
   ],
   "source": [
    "pip install rank_bm25"
   ]
  },
  {
   "cell_type": "code",
   "execution_count": 1,
   "metadata": {},
   "outputs": [
    {
     "name": "stderr",
     "output_type": "stream",
     "text": [
      "/home/minhai/2024-2-DSCD-Synnovation-3/.venv/lib/python3.10/site-packages/sentence_transformers/cross_encoder/CrossEncoder.py:13: TqdmWarning: IProgress not found. Please update jupyter and ipywidgets. See https://ipywidgets.readthedocs.io/en/stable/user_install.html\n",
      "  from tqdm.autonotebook import tqdm, trange\n"
     ]
    }
   ],
   "source": [
    "import os\n",
    "import numpy as np\n",
    "import pandas as pd\n",
    "\n",
    "from sentence_transformers import SentenceTransformer\n",
    "\n",
    "from langchain_community.document_loaders import PyPDFLoader # 1.로드 \n",
    "from langchain_community.document_loaders import TextLoader \n",
    "from langchain.text_splitter import RecursiveCharacterTextSplitter # 2.청크\n",
    "from langchain.embeddings import HuggingFaceEmbeddings # 3. 임베딩 모델\n",
    "from langchain.vectorstores import FAISS # 3. 벡터 저장\n",
    "from langchain.retrievers import BM25Retriever, EnsembleRetriever # 4. 검색 기법\n",
    "from langchain_ollama import ChatOllama\n",
    "from langchain.prompts import ChatPromptTemplate\n",
    "\n",
    "from transformers import pipeline"
   ]
  },
  {
   "cell_type": "code",
   "execution_count": 2,
   "metadata": {},
   "outputs": [
    {
     "name": "stdout",
     "output_type": "stream",
     "text": [
      "['/home/minhai/2024-2-DSCD-Synnovation-3/보험자료/한화 하얀미소플러스치아보험Ⅱ 무배당2404(연만기).pdf', '/home/minhai/2024-2-DSCD-Synnovation-3/보험자료/한화업무용자동차보험.pdf']\n"
     ]
    },
    {
     "name": "stderr",
     "output_type": "stream",
     "text": [
      "Reading PDF files: 100%|██████████| 2/2 [00:39<00:00, 19.78s/it]\n"
     ]
    },
    {
     "data": {
      "text/plain": [
       "289"
      ]
     },
     "execution_count": 2,
     "metadata": {},
     "output_type": "execute_result"
    }
   ],
   "source": [
    "# 1. 문서 로드 (pdf페이지로 나눠짐)\n",
    "from tqdm import tqdm\n",
    "from glob import glob\n",
    "\n",
    "pdf_folder = \"/home/minhai/2024-2-DSCD-Synnovation-3/보험자료\"\n",
    "pdf_files = glob(os.path.join(pdf_folder, '*.pdf'))\n",
    "print(pdf_files)\n",
    "\n",
    "data = []\n",
    "for pdf_file in tqdm(pdf_files, desc=\"Reading PDF files\"):\n",
    "    loader = PyPDFLoader(pdf_file)\n",
    "    data += loader.load()\n",
    "\n",
    "len(data)"
   ]
  },
  {
   "cell_type": "code",
   "execution_count": 3,
   "metadata": {},
   "outputs": [
    {
     "name": "stdout",
     "output_type": "stream",
     "text": [
      "생성된 텍스트 청크 수: 1114\n",
      "각 청크의 길이: [236, 482, 330, 138, 493, 145, 480, 228, 455, 488, 299, 222, 484, 489, 489, 75, 496, 498, 412, 500, 103, 499, 492, 117, 498, 100, 463, 499, 206, 498, 499, 493, 263, 485, 480, 115, 498, 496, 496, 490, 496, 486, 495, 486, 289, 497, 64, 452, 492, 488, 443, 458, 41, 496, 499, 499, 498, 497, 499, 499, 499, 499, 415, 43, 499, 494, 499, 498, 499, 499, 499, 498, 496, 498, 498, 498, 119, 41, 499, 499, 498, 498, 499, 498, 499, 498, 498, 499, 499, 469, 43, 498, 498, 499, 498, 499, 495, 498, 499, 498, 499, 499, 337, 41, 499, 499, 498, 498, 499, 499, 498, 498, 241, 217, 41, 479, 499, 392, 43, 497, 130, 72, 41, 494, 496, 499, 378, 44, 499, 497, 496, 265, 42, 497, 196, 72, 62, 497, 139, 171, 480, 42, 496, 218, 106, 396, 44, 479, 498, 215, 42, 495, 495, 279, 16, 42, 497, 498, 182, 418, 42, 487, 316, 33, 42, 498, 248, 416, 224, 165, 495, 498, 103, 29, 445, 498, 157, 209, 41, 498, 498, 498, 227, 59, 496, 43, 498, 497, 41, 499, 499, 497, 353, 42, 499, 497, 497, 140, 41, 496, 498, 477, 42, 497, 499, 497, 496, 255, 41, 496, 489, 493, 452, 88, 498, 497, 499, 184, 41, 493, 497, 499, 487, 42, 498, 494, 499, 369, 41, 496, 496, 497, 353, 42, 497, 496, 491, 498, 351, 41, 498, 497, 488, 226, 42, 499, 498, 498, 271, 41, 497, 495, 498, 175, 42, 499, 282, 42, 497, 494, 493, 114, 41, 495, 494, 499, 178, 120, 497, 498, 367, 41, 497, 496, 496, 237, 42, 497, 498, 408, 41, 497, 499, 499, 243, 356, 41, 497, 470, 42, 497, 498, 346, 41, 498, 495, 449, 42, 497, 492, 230, 41, 497, 496, 497, 497, 145, 42, 497, 498, 334, 211, 41, 493, 498, 487, 42, 497, 495, 495, 168, 41, 492, 255, 486, 86, 42, 495, 497, 497, 211, 41, 491, 86, 489, 72, 42, 495, 492, 424, 135, 496, 498, 467, 42, 496, 496, 496, 428, 482, 258, 41, 42, 495, 498, 499, 69, 146, 498, 498, 430, 42, 490, 498, 499, 392, 41, 499, 314, 495, 105, 42, 498, 498, 497, 497, 51, 41, 497, 221, 43, 42, 495, 498, 395, 41, 495, 497, 498, 243, 42, 498, 499, 497, 49, 41, 499, 499, 499, 226, 42, 497, 497, 496, 447, 41, 499, 497, 497, 408, 42, 496, 498, 496, 329, 41, 496, 498, 432, 37, 42, 497, 497, 496, 216, 41, 496, 496, 499, 39, 42, 494, 499, 489, 41, 498, 498, 495, 265, 36, 42, 496, 347, 55, 497, 132, 2, 496, 220, 340, 42, 499, 256, 2, 494, 341, 330, 497, 498, 325, 42, 497, 428, 496, 367, 498, 498, 102, 396, 497, 487, 56, 496, 109, 2, 499, 499, 258, 43, 496, 498, 499, 219, 485, 43, 498, 498, 499, 498, 499, 497, 499, 330, 42, 497, 498, 319, 43, 496, 498, 497, 497, 44, 42, 494, 497, 497, 43, 499, 495, 495, 329, 42, 495, 491, 413, 43, 495, 499, 228, 42, 494, 495, 464, 359, 499, 494, 229, 348, 491, 490, 135, 43, 492, 497, 494, 214, 42, 498, 495, 498, 497, 62, 43, 494, 495, 109, 43, 498, 499, 498, 498, 499, 498, 75, 347, 152, 497, 241, 463, 212, 497, 486, 186, 465, 498, 473, 33, 466, 92, 494, 137, 499, 434, 499, 369, 497, 475, 484, 495, 483, 498, 474, 495, 160, 492, 485, 303, 497, 488, 478, 43, 488, 369, 474, 492, 138, 475, 323, 488, 158, 398, 434, 408, 431, 410, 495, 405, 411, 464, 301, 401, 478, 498, 496, 483, 466, 398, 436, 314, 476, 494, 465, 496, 86, 500, 477, 459, 494, 490, 499, 441, 489, 493, 484, 85, 458, 474, 461, 433, 482, 465, 479, 357, 489, 471, 454, 268, 451, 479, 491, 422, 465, 481, 488, 286, 471, 496, 497, 479, 43, 493, 454, 487, 460, 45, 482, 497, 473, 377, 469, 498, 491, 191, 480, 478, 476, 445, 457, 470, 475, 296, 483, 496, 471, 410, 454, 471, 491, 345, 480, 478, 452, 479, 494, 473, 474, 355, 485, 493, 485, 403, 473, 497, 455, 444, 456, 464, 460, 453, 169, 469, 492, 493, 473, 130, 498, 480, 467, 288, 415, 453, 476, 465, 445, 499, 458, 275, 451, 436, 424, 443, 436, 482, 465, 469, 382, 494, 461, 484, 102, 451, 479, 497, 127, 490, 491, 324, 454, 463, 453, 250, 479, 467, 483, 367, 465, 464, 471, 212, 480, 452, 467, 250, 476, 489, 455, 102, 499, 498, 396, 480, 490, 497, 121, 485, 352, 479, 490, 494, 75, 499, 491, 475, 88, 455, 486, 485, 15, 496, 475, 479, 474, 91, 460, 493, 477, 469, 490, 464, 451, 348, 460, 451, 490, 199, 465, 487, 466, 229, 496, 455, 452, 265, 463, 488, 475, 270, 481, 476, 471, 86, 484, 497, 452, 229, 493, 484, 488, 15, 452, 468, 449, 494, 492, 474, 165, 465, 484, 489, 255, 485, 478, 475, 222, 492, 470, 464, 208, 484, 494, 460, 100, 466, 477, 485, 51, 498, 493, 295, 488, 496, 454, 408, 498, 497, 487, 485, 132, 498, 465, 492, 255, 473, 464, 499, 486, 493, 478, 491, 471, 497, 459, 89, 477, 466, 458, 77, 481, 484, 493, 181, 496, 467, 478, 63, 494, 464, 467, 247, 467, 139, 475, 495, 466, 243, 485, 497, 472, 176, 492, 457, 458, 273, 453, 453, 472, 87, 462, 470, 458, 356, 467, 474, 495, 85, 456, 485, 455, 210, 475, 484, 491, 168, 476, 489, 489, 28, 498, 464, 488, 223, 485, 467, 457, 240, 456, 492, 496, 423, 481, 485, 491, 159, 474, 482, 497, 43, 488, 464, 497, 479, 49, 470, 494, 467, 271, 487, 473, 483, 488, 468, 457, 236, 483, 498, 469, 354, 500, 471, 487, 356, 491, 477, 485, 88, 494, 457, 452, 477, 65, 487, 482, 465, 474, 482, 494, 475, 452, 490, 242, 474, 474, 496, 328, 477, 488, 61, 417, 356, 500, 482, 496, 207, 483, 492, 486, 131, 479, 465, 384, 482, 494, 496, 414, 497, 490, 467, 490, 447, 488, 125, 486, 464, 224, 459, 496, 472, 469, 490, 496, 480, 77, 493, 465, 453, 99, 402, 467, 488, 240, 497, 460, 261, 471, 473, 495, 265, 494, 493, 492, 154, 488, 480, 491, 87, 494, 484, 488, 136, 472, 489, 466, 170, 490, 475, 481, 186, 499, 486, 468, 495, 211, 479, 460, 479, 493, 83, 483, 467, 477, 126, 482, 495, 481, 237, 500, 494, 456, 179, 471, 480, 489, 79, 493, 468, 457, 42, 4, 4, 4, 4, 4, 4]\n"
     ]
    }
   ],
   "source": [
    "# 2. 문서를 적절한 크기의 조각으로 청크 (split)\n",
    "text_splitter = RecursiveCharacterTextSplitter(\n",
    "    chunk_size=500,\n",
    "    chunk_overlap=30) # 청크 중 중복되는 부분 크기\n",
    "  #seprator 공백이면 공백 기준으로 청크를.. \\n을 기본적으로 사용 (이거는 순차적으로 진행해줌)\n",
    "\n",
    "chunks = text_splitter.split_documents(data)\n",
    "print(f\"생성된 텍스트 청크 수: {len(chunks)}\")\n",
    "print(f\"각 청크의 길이: {list(len(text.page_content) for text in chunks)}\")"
   ]
  },
  {
   "cell_type": "code",
   "execution_count": 7,
   "metadata": {},
   "outputs": [],
   "source": [
    "# 3. HuggingFaceBgeEmbeddings 사용하여 벡터 임베딩 생성 (의미 검색)\n",
    "embedding = HuggingFaceEmbeddings(model_name=\"BAAI/bge-m3\") #기본모델:all-MiniLM-L6-v2 # model_name=\"BAAI/bge-small-en-v1.5\", \"BAAI/bge-m3\"지정 가능\n",
    "\n",
    "# 3. FAISS 벡터스토어 생성\n",
    "vectorstore = FAISS.from_documents(documents=chunks,\n",
    "                                   embedding=embedding)"
   ]
  },
  {
   "cell_type": "markdown",
   "metadata": {},
   "source": [
    "키워드 검색만의 한계점을 없애기 위해서 앙상블 모델 활용 (의미 검색 + 키워드 검색)\n",
    "- openai > 허깅페이스 > ollama (모델 개수)\n",
    "- 특히 한국어에서는 앞 2가지보다 성능이 떨어질 수 있음 (따라서 허깅페이스 모델 사용)"
   ]
  },
  {
   "cell_type": "code",
   "execution_count": 8,
   "metadata": {},
   "outputs": [
    {
     "name": "stdout",
     "output_type": "stream",
     "text": [
      "Top-k Documents:\n",
      "니다.(전기자동차에 장착된 보조배터리 제외)\n",
      "제3조(준용규정) 이 특별약관에서 정하지 않은 사항은 보통약관에 따릅니다.\n",
      "󰊺󰋆 전기자동차 충전 중 사고 보상 특별약관\n",
      "제1조(적용대상) 이 특별약관은 피보험자동차가 전기자동차로서 보통약관의 ｢자기신체사고｣, \n",
      "｢자동차상해 특별약관｣, ｢차량단독사고 손해보상 특별약관｣을 가입하고 ｢전기자동차 충전 중 \n",
      "사고 보상 특별약관｣을 가입한 경우에 적용됩니다.\n",
      "용어풀이\n",
      "이 특별약관에서 전기자동차라 함은 사용연료의 종류가 전기인 자동차로서 ｢환경친화적자동차의 개발 및 보급\n",
      "촉진에 관한 법률｣ 제2조 제3호에 따른 전기자동차를 말합니다.\n",
      "제2조(보상내용) 보험회사는 피보험자가 정격의 전기자동차 충전설비를 이용하여 피보험자동차\n",
      "를 충전하던 중 발생한 사고에 대하여 이 특별약관에서 정하는 바에 따라 보상하여 드립니다.\n",
      "  ① 피보험자가 가입한 보통약관의 ｢자기신체사고｣, ｢자동차상해 특별약관｣에 따라 다음 각 \n",
      "호의 사고에 대하여 보상하여 드립니다.\n",
      "호의 사고에 대하여 보상하여 드립니다. \n",
      "  1. 피보험자가 피보험자동차의 화재 또는 폭발 사고의 직접적인 결과로 상해를 입은 때\n",
      "  2. 피보험자가 피보험자동차의 충전 중 감전 사고로 죽거나 치료를 요하는 상해를 입은 때\n",
      "  ② ｢차량단독사고 손해보상 특별약관｣에 가입한 경우 해당 특약의 제4조 보상하지 않는 손\n",
      "해에도 불구하고 피보험자동차의 중요한 부분의 전기적 손해에 한하여 ｢차량단독사고 손해보\n",
      "상 특별약관｣에 따라 보상하여 드립니다.\n",
      "용어풀이\n",
      "① 이 특별약관에서 전기자동차 충전설비라 함은 해당 전기자동차의 정격의 휴대용 충전기(또는 가정용 충전기\n",
      "기 및 장치), 거주지 혹은 공공장소 등에 설치된 전기자동차 전용 완속충전기 및 급속충전기를 말합니다.\n",
      "② 이 특별약관에서 피보험자동차를 충전하던 중이라 함은 피보험자동차의 충전을 위하여 충전설비를 조작한 \n",
      "시점부터 충전 완료까지의 과정을 말합니다.\n",
      "52 ∙ 한화업무용자동차보험\n",
      "용어풀이\n",
      "이 특별약관에서 전기자동차라 함은 사용연료의 종류가 전기인 자동차로서 ｢환경친화적자동차의 개발 및 보급\n",
      "촉진에 관한 법률｣ 제2조 제3호에 따른 전기자동차를 말합니다.\n",
      "제2조(보상내용) 보험회사는 보통약관 ｢자기차량손해｣ 또는 『차량단독사고 손해보상 특별약\n",
      "관』에서 규정한 사고로 보험금이 지급되는 경우로 피보험자동차의 구동용 배터리가 파손되\n",
      "어 수리 또는 부분교체를 통한 활용이 불가능하여 부득이 구동용 배터리 전부를 새 배터리로 \n",
      "교체하는 경우 이 특별약관이 정하는 바에 따라 보험금을 지급합니다. 다만, 새 배터리를 포\n",
      "함한 수리비용이 보험가액보다 많은 경우에는 보험가액을 한도로 보상합니다.\n",
      "지급보험금 = 새 배터리의 가액 - 감가상각 적용 후 새 \n",
      "배터리의 가액\n",
      "용어풀이\n",
      "이 특별약관에서 구동용 배터리라 함은 전기자동차에 장착되어 구동 모터에 전기를 공급해주는 배터리를 말합\n",
      "니다.(전기자동차에 장착된 보조배터리 제외)\n"
     ]
    }
   ],
   "source": [
    "# 4. 질의 실행 및 top-k 문서 검색 (similarity_search보다 검색기 활용하는 게 좋음)\n",
    "query = \"전기자동차 충전 중 사고 보상 특별약관에 대해 설명해줘\"\n",
    "top_k = 3  # 원하는 top-k 문서 개수 설정\n",
    "\n",
    "retriever = vectorstore.as_retriever(search_type=\"similarity\", search_kwargs={\"k\": top_k})\n",
    "results = retriever.invoke(query)\n",
    "\n",
    "# 결과 출력\n",
    "print(\"Top-k Documents:\")\n",
    "for doc in results:\n",
    "    print(doc.page_content)  # 각 문서의 내용 출력"
   ]
  },
  {
   "cell_type": "markdown",
   "metadata": {},
   "source": [
    "기본모델보다는 해당 모델이 잘 나옴"
   ]
  },
  {
   "cell_type": "code",
   "execution_count": 12,
   "metadata": {},
   "outputs": [
    {
     "ename": "KeyboardInterrupt",
     "evalue": "",
     "output_type": "error",
     "traceback": [
      "\u001b[0;31m---------------------------------------------------------------------------\u001b[0m",
      "\u001b[0;31mKeyboardInterrupt\u001b[0m                         Traceback (most recent call last)",
      "Cell \u001b[0;32mIn[12], line 8\u001b[0m\n\u001b[1;32m      5\u001b[0m     kiwi_model \u001b[38;5;241m=\u001b[39m Kiwi()\n\u001b[1;32m      6\u001b[0m     \u001b[38;5;28;01mreturn\u001b[39;00m [t\u001b[38;5;241m.\u001b[39mform \u001b[38;5;28;01mfor\u001b[39;00m t \u001b[38;5;129;01min\u001b[39;00m kiwi_model\u001b[38;5;241m.\u001b[39mtokenize(text)]\n\u001b[0;32m----> 8\u001b[0m bm25_retriever \u001b[38;5;241m=\u001b[39m \u001b[43mBM25Retriever\u001b[49m\u001b[38;5;241;43m.\u001b[39;49m\u001b[43mfrom_documents\u001b[49m\u001b[43m(\u001b[49m\u001b[43mchunks\u001b[49m\u001b[43m,\u001b[49m\n\u001b[1;32m      9\u001b[0m \u001b[43m                                              \u001b[49m\u001b[43mpreprocess_func\u001b[49m\u001b[38;5;241;43m=\u001b[39;49m\u001b[43mbm25_process_func\u001b[49m\u001b[43m)\u001b[49m\n\u001b[1;32m     10\u001b[0m bm25_retriever\u001b[38;5;241m.\u001b[39mk \u001b[38;5;241m=\u001b[39m \u001b[38;5;241m3\u001b[39m\n\u001b[1;32m     11\u001b[0m results \u001b[38;5;241m=\u001b[39m bm25_retriever\u001b[38;5;241m.\u001b[39mget_relevant_documents(query) \u001b[38;5;66;03m# BM25Retriever를 사용하여 query에 맞는 문서 검색\u001b[39;00m\n",
      "File \u001b[0;32m~/2024-2-DSCD-Synnovation-3/.venv/lib/python3.10/site-packages/langchain_community/retrievers/bm25.py:90\u001b[0m, in \u001b[0;36mBM25Retriever.from_documents\u001b[0;34m(cls, documents, bm25_params, preprocess_func, **kwargs)\u001b[0m\n\u001b[1;32m     78\u001b[0m \u001b[38;5;250m\u001b[39m\u001b[38;5;124;03m\"\"\"\u001b[39;00m\n\u001b[1;32m     79\u001b[0m \u001b[38;5;124;03mCreate a BM25Retriever from a list of Documents.\u001b[39;00m\n\u001b[1;32m     80\u001b[0m \u001b[38;5;124;03mArgs:\u001b[39;00m\n\u001b[0;32m   (...)\u001b[0m\n\u001b[1;32m     87\u001b[0m \u001b[38;5;124;03m    A BM25Retriever instance.\u001b[39;00m\n\u001b[1;32m     88\u001b[0m \u001b[38;5;124;03m\"\"\"\u001b[39;00m\n\u001b[1;32m     89\u001b[0m texts, metadatas \u001b[38;5;241m=\u001b[39m \u001b[38;5;28mzip\u001b[39m(\u001b[38;5;241m*\u001b[39m((d\u001b[38;5;241m.\u001b[39mpage_content, d\u001b[38;5;241m.\u001b[39mmetadata) \u001b[38;5;28;01mfor\u001b[39;00m d \u001b[38;5;129;01min\u001b[39;00m documents))\n\u001b[0;32m---> 90\u001b[0m \u001b[38;5;28;01mreturn\u001b[39;00m \u001b[38;5;28;43mcls\u001b[39;49m\u001b[38;5;241;43m.\u001b[39;49m\u001b[43mfrom_texts\u001b[49m\u001b[43m(\u001b[49m\n\u001b[1;32m     91\u001b[0m \u001b[43m    \u001b[49m\u001b[43mtexts\u001b[49m\u001b[38;5;241;43m=\u001b[39;49m\u001b[43mtexts\u001b[49m\u001b[43m,\u001b[49m\n\u001b[1;32m     92\u001b[0m \u001b[43m    \u001b[49m\u001b[43mbm25_params\u001b[49m\u001b[38;5;241;43m=\u001b[39;49m\u001b[43mbm25_params\u001b[49m\u001b[43m,\u001b[49m\n\u001b[1;32m     93\u001b[0m \u001b[43m    \u001b[49m\u001b[43mmetadatas\u001b[49m\u001b[38;5;241;43m=\u001b[39;49m\u001b[43mmetadatas\u001b[49m\u001b[43m,\u001b[49m\n\u001b[1;32m     94\u001b[0m \u001b[43m    \u001b[49m\u001b[43mpreprocess_func\u001b[49m\u001b[38;5;241;43m=\u001b[39;49m\u001b[43mpreprocess_func\u001b[49m\u001b[43m,\u001b[49m\n\u001b[1;32m     95\u001b[0m \u001b[43m    \u001b[49m\u001b[38;5;241;43m*\u001b[39;49m\u001b[38;5;241;43m*\u001b[39;49m\u001b[43mkwargs\u001b[49m\u001b[43m,\u001b[49m\n\u001b[1;32m     96\u001b[0m \u001b[43m\u001b[49m\u001b[43m)\u001b[49m\n",
      "File \u001b[0;32m~/2024-2-DSCD-Synnovation-3/.venv/lib/python3.10/site-packages/langchain_community/retrievers/bm25.py:60\u001b[0m, in \u001b[0;36mBM25Retriever.from_texts\u001b[0;34m(cls, texts, metadatas, bm25_params, preprocess_func, **kwargs)\u001b[0m\n\u001b[1;32m     54\u001b[0m \u001b[38;5;28;01mexcept\u001b[39;00m \u001b[38;5;167;01mImportError\u001b[39;00m:\n\u001b[1;32m     55\u001b[0m     \u001b[38;5;28;01mraise\u001b[39;00m \u001b[38;5;167;01mImportError\u001b[39;00m(\n\u001b[1;32m     56\u001b[0m         \u001b[38;5;124m\"\u001b[39m\u001b[38;5;124mCould not import rank_bm25, please install with `pip install \u001b[39m\u001b[38;5;124m\"\u001b[39m\n\u001b[1;32m     57\u001b[0m         \u001b[38;5;124m\"\u001b[39m\u001b[38;5;124mrank_bm25`.\u001b[39m\u001b[38;5;124m\"\u001b[39m\n\u001b[1;32m     58\u001b[0m     )\n\u001b[0;32m---> 60\u001b[0m texts_processed \u001b[38;5;241m=\u001b[39m [preprocess_func(t) \u001b[38;5;28;01mfor\u001b[39;00m t \u001b[38;5;129;01min\u001b[39;00m texts]\n\u001b[1;32m     61\u001b[0m bm25_params \u001b[38;5;241m=\u001b[39m bm25_params \u001b[38;5;129;01mor\u001b[39;00m {}\n\u001b[1;32m     62\u001b[0m vectorizer \u001b[38;5;241m=\u001b[39m BM25Okapi(texts_processed, \u001b[38;5;241m*\u001b[39m\u001b[38;5;241m*\u001b[39mbm25_params)\n",
      "File \u001b[0;32m~/2024-2-DSCD-Synnovation-3/.venv/lib/python3.10/site-packages/langchain_community/retrievers/bm25.py:60\u001b[0m, in \u001b[0;36m<listcomp>\u001b[0;34m(.0)\u001b[0m\n\u001b[1;32m     54\u001b[0m \u001b[38;5;28;01mexcept\u001b[39;00m \u001b[38;5;167;01mImportError\u001b[39;00m:\n\u001b[1;32m     55\u001b[0m     \u001b[38;5;28;01mraise\u001b[39;00m \u001b[38;5;167;01mImportError\u001b[39;00m(\n\u001b[1;32m     56\u001b[0m         \u001b[38;5;124m\"\u001b[39m\u001b[38;5;124mCould not import rank_bm25, please install with `pip install \u001b[39m\u001b[38;5;124m\"\u001b[39m\n\u001b[1;32m     57\u001b[0m         \u001b[38;5;124m\"\u001b[39m\u001b[38;5;124mrank_bm25`.\u001b[39m\u001b[38;5;124m\"\u001b[39m\n\u001b[1;32m     58\u001b[0m     )\n\u001b[0;32m---> 60\u001b[0m texts_processed \u001b[38;5;241m=\u001b[39m [\u001b[43mpreprocess_func\u001b[49m\u001b[43m(\u001b[49m\u001b[43mt\u001b[49m\u001b[43m)\u001b[49m \u001b[38;5;28;01mfor\u001b[39;00m t \u001b[38;5;129;01min\u001b[39;00m texts]\n\u001b[1;32m     61\u001b[0m bm25_params \u001b[38;5;241m=\u001b[39m bm25_params \u001b[38;5;129;01mor\u001b[39;00m {}\n\u001b[1;32m     62\u001b[0m vectorizer \u001b[38;5;241m=\u001b[39m BM25Okapi(texts_processed, \u001b[38;5;241m*\u001b[39m\u001b[38;5;241m*\u001b[39mbm25_params)\n",
      "\u001b[0;31mKeyboardInterrupt\u001b[0m: "
     ]
    }
   ],
   "source": [
    "# 키워드 검색\n",
    "from kiwipiepy import Kiwi # 한국어 토크나이저를 사용하여 문장을 토큰화하는 함수\n",
    "\n",
    "def bm25_process_func(text):\n",
    "    kiwi_model = Kiwi()\n",
    "    return [t.form for t in kiwi_model.tokenize(text)]\n",
    "\n",
    "bm25_retriever = BM25Retriever.from_documents(chunks, preprocess_func=bm25_process_func)\n",
    "bm25_retriever.k = 3\n",
    "results = bm25_retriever.get_relevant_documents(query) # BM25Retriever를 사용하여 query에 맞는 문서 검색\n",
    "\n",
    "# 검색 결과 출력\n",
    "for i, doc in enumerate(results):\n",
    "    print(f\"Rank: {i+1}, Content: {doc.page_content}\")"
   ]
  },
  {
   "cell_type": "markdown",
   "metadata": {},
   "source": [
    "시간이 10분 넘게 걸려서 포기 (그냥 진행)"
   ]
  },
  {
   "cell_type": "code",
   "execution_count": 14,
   "metadata": {},
   "outputs": [
    {
     "name": "stdout",
     "output_type": "stream",
     "text": [
      "Rank: 1, Content: 󰊺󰋄 품질인증부품 사용 특별약관 ············································································51\n",
      "󰊺󰋅 전기자동차 배터리 신품가액 보상 특별약관 ························································51\n",
      "󰊺󰋆 전기자동차 충전 중 사고 보상 특별약관 ····························································52\n",
      "󰊺󰋇 자기차량손해 침수해 한정 보상 특별약관 ··························································53\n",
      "󰊺󰋈 교통비지원 특별약관 ······················································································54\n",
      "Rank: 2, Content: 니다.(전기자동차에 장착된 보조배터리 제외)\n",
      "제3조(준용규정) 이 특별약관에서 정하지 않은 사항은 보통약관에 따릅니다.\n",
      "󰊺󰋆 전기자동차 충전 중 사고 보상 특별약관\n",
      "제1조(적용대상) 이 특별약관은 피보험자동차가 전기자동차로서 보통약관의 ｢자기신체사고｣, \n",
      "｢자동차상해 특별약관｣, ｢차량단독사고 손해보상 특별약관｣을 가입하고 ｢전기자동차 충전 중 \n",
      "사고 보상 특별약관｣을 가입한 경우에 적용됩니다.\n",
      "용어풀이\n",
      "이 특별약관에서 전기자동차라 함은 사용연료의 종류가 전기인 자동차로서 ｢환경친화적자동차의 개발 및 보급\n",
      "촉진에 관한 법률｣ 제2조 제3호에 따른 전기자동차를 말합니다.\n",
      "제2조(보상내용) 보험회사는 피보험자가 정격의 전기자동차 충전설비를 이용하여 피보험자동차\n",
      "를 충전하던 중 발생한 사고에 대하여 이 특별약관에서 정하는 바에 따라 보상하여 드립니다.\n",
      "  ① 피보험자가 가입한 보통약관의 ｢자기신체사고｣, ｢자동차상해 특별약관｣에 따라 다음 각 \n",
      "호의 사고에 대하여 보상하여 드립니다.\n",
      "Rank: 3, Content: 호의 사고에 대하여 보상하여 드립니다. \n",
      "  1. 피보험자가 피보험자동차의 화재 또는 폭발 사고의 직접적인 결과로 상해를 입은 때\n",
      "  2. 피보험자가 피보험자동차의 충전 중 감전 사고로 죽거나 치료를 요하는 상해를 입은 때\n",
      "  ② ｢차량단독사고 손해보상 특별약관｣에 가입한 경우 해당 특약의 제4조 보상하지 않는 손\n",
      "해에도 불구하고 피보험자동차의 중요한 부분의 전기적 손해에 한하여 ｢차량단독사고 손해보\n",
      "상 특별약관｣에 따라 보상하여 드립니다.\n",
      "용어풀이\n",
      "① 이 특별약관에서 전기자동차 충전설비라 함은 해당 전기자동차의 정격의 휴대용 충전기(또는 가정용 충전기\n",
      "기 및 장치), 거주지 혹은 공공장소 등에 설치된 전기자동차 전용 완속충전기 및 급속충전기를 말합니다.\n",
      "② 이 특별약관에서 피보험자동차를 충전하던 중이라 함은 피보험자동차의 충전을 위하여 충전설비를 조작한 \n",
      "시점부터 충전 완료까지의 과정을 말합니다.\n"
     ]
    }
   ],
   "source": [
    "# 키워드 검색\n",
    "bm25_retriever = BM25Retriever.from_documents(chunks)\n",
    "bm25_retriever.k = 3\n",
    "results = bm25_retriever.get_relevant_documents(query) # BM25Retriever를 사용하여 query에 맞는 문서 검색\n",
    "\n",
    "# 검색 결과 출력\n",
    "for i, doc in enumerate(results):\n",
    "    print(f\"Rank: {i+1}, Content: {doc.page_content}\")"
   ]
  },
  {
   "cell_type": "code",
   "execution_count": 15,
   "metadata": {},
   "outputs": [
    {
     "name": "stdout",
     "output_type": "stream",
     "text": [
      "쿼리: 전기자동차 충전 중 사고 보상 특별약관에 대해 설명해줘\n",
      "검색 결과:\n",
      "- 니다.(전기자동차에 장착된 보조배터리 제외)\n",
      "제3조(준용규정) 이 특별약관에서 정하지 않은 사항은 보통약관에 따릅니다.\n",
      "󰊺󰋆 전기자동차 충전 중 사고 보상 특별약관\n",
      "제1조(적용대상) 이 특별약관은 피보험자동차가 전기자동차로서 보통약관의 ｢자기신체사고｣, \n",
      "｢자동차상해 특별약관｣, ｢차량단독사고 손해보상 특별약관｣을 가입하고 ｢전기자동차 충전 중 \n",
      "사고 보상 특별약관｣을 가입한 경우에 적용됩니다.\n",
      "용어풀이\n",
      "이 특별약관에서 전기자동차라 함은 사용연료의 종류가 전기인 자동차로서 ｢환경친화적자동차의 개발 및 보급\n",
      "촉진에 관한 법률｣ 제2조 제3호에 따른 전기자동차를 말합니다.\n",
      "제2조(보상내용) 보험회사는 피보험자가 정격의 전기자동차 충전설비를 이용하여 피보험자동차\n",
      "를 충전하던 중 발생한 사고에 대하여 이 특별약관에서 정하는 바에 따라 보상하여 드립니다.\n",
      "  ① 피보험자가 가입한 보통약관의 ｢자기신체사고｣, ｢자동차상해 특별약관｣에 따라 다음 각 \n",
      "호의 사고에 대하여 보상하여 드립니다. [출처: /home/minhai/2024-2-DSCD-Synnovation-3/보험자료/한화업무용자동차보험.pdf]\n",
      "- 호의 사고에 대하여 보상하여 드립니다. \n",
      "  1. 피보험자가 피보험자동차의 화재 또는 폭발 사고의 직접적인 결과로 상해를 입은 때\n",
      "  2. 피보험자가 피보험자동차의 충전 중 감전 사고로 죽거나 치료를 요하는 상해를 입은 때\n",
      "  ② ｢차량단독사고 손해보상 특별약관｣에 가입한 경우 해당 특약의 제4조 보상하지 않는 손\n",
      "해에도 불구하고 피보험자동차의 중요한 부분의 전기적 손해에 한하여 ｢차량단독사고 손해보\n",
      "상 특별약관｣에 따라 보상하여 드립니다.\n",
      "용어풀이\n",
      "① 이 특별약관에서 전기자동차 충전설비라 함은 해당 전기자동차의 정격의 휴대용 충전기(또는 가정용 충전기\n",
      "기 및 장치), 거주지 혹은 공공장소 등에 설치된 전기자동차 전용 완속충전기 및 급속충전기를 말합니다.\n",
      "② 이 특별약관에서 피보험자동차를 충전하던 중이라 함은 피보험자동차의 충전을 위하여 충전설비를 조작한 \n",
      "시점부터 충전 완료까지의 과정을 말합니다. [출처: /home/minhai/2024-2-DSCD-Synnovation-3/보험자료/한화업무용자동차보험.pdf]\n",
      "- 󰊺󰋄 품질인증부품 사용 특별약관 ············································································51\n",
      "󰊺󰋅 전기자동차 배터리 신품가액 보상 특별약관 ························································51\n",
      "󰊺󰋆 전기자동차 충전 중 사고 보상 특별약관 ····························································52\n",
      "󰊺󰋇 자기차량손해 침수해 한정 보상 특별약관 ··························································53\n",
      "󰊺󰋈 교통비지원 특별약관 ······················································································54 [출처: /home/minhai/2024-2-DSCD-Synnovation-3/보험자료/한화업무용자동차보험.pdf]\n",
      "- 52 ∙ 한화업무용자동차보험\n",
      "용어풀이\n",
      "이 특별약관에서 전기자동차라 함은 사용연료의 종류가 전기인 자동차로서 ｢환경친화적자동차의 개발 및 보급\n",
      "촉진에 관한 법률｣ 제2조 제3호에 따른 전기자동차를 말합니다.\n",
      "제2조(보상내용) 보험회사는 보통약관 ｢자기차량손해｣ 또는 『차량단독사고 손해보상 특별약\n",
      "관』에서 규정한 사고로 보험금이 지급되는 경우로 피보험자동차의 구동용 배터리가 파손되\n",
      "어 수리 또는 부분교체를 통한 활용이 불가능하여 부득이 구동용 배터리 전부를 새 배터리로 \n",
      "교체하는 경우 이 특별약관이 정하는 바에 따라 보험금을 지급합니다. 다만, 새 배터리를 포\n",
      "함한 수리비용이 보험가액보다 많은 경우에는 보험가액을 한도로 보상합니다.\n",
      "지급보험금 = 새 배터리의 가액 - 감가상각 적용 후 새 \n",
      "배터리의 가액\n",
      "용어풀이\n",
      "이 특별약관에서 구동용 배터리라 함은 전기자동차에 장착되어 구동 모터에 전기를 공급해주는 배터리를 말합\n",
      "니다.(전기자동차에 장착된 보조배터리 제외) [출처: /home/minhai/2024-2-DSCD-Synnovation-3/보험자료/한화업무용자동차보험.pdf]\n"
     ]
    }
   ],
   "source": [
    "# 의미 검색 + 키워드 검색 (앙상블)\n",
    "ensemble_retrievers = [retriever, bm25_retriever]\n",
    "ensemble_retriever = EnsembleRetriever(\n",
    "    retrievers=ensemble_retrievers, \n",
    "    weights=[0.5, 0.5]\n",
    ")\n",
    "\n",
    "retrieved_docs = ensemble_retriever.invoke(query)\n",
    "\n",
    "print(f\"쿼리: {query}\")\n",
    "print(\"검색 결과:\")\n",
    "for doc in retrieved_docs:\n",
    "    print(f\"- {doc.page_content} [출처: {doc.metadata['source']}]\")"
   ]
  },
  {
   "cell_type": "markdown",
   "metadata": {},
   "source": [
    "키워드 검색으로 결정했지만, 해당 검색만으로는 한계가 있다고 생각해서\n",
    "성능이 향상된 임베딩 모델로 교체 + 앙상블 모델로 구축"
   ]
  },
  {
   "cell_type": "code",
   "execution_count": null,
   "metadata": {},
   "outputs": [],
   "source": [
    " # Ollama라는 특정 플랫폼이나 라이브러리에서 제공하는 모델 로드 방식"
   ]
  },
  {
   "cell_type": "code",
   "execution_count": 27,
   "metadata": {},
   "outputs": [
    {
     "name": "stdout",
     "output_type": "stream",
     "text": [
      "LLM 응답: content='보험 가입 시 주의 사항은 다음과 같습니다.\\n\\n1.  **정확한 정보 제공** : 보험 계약 시 정확한 개인 정보와 건강상태를 신원제공해야합니다. 이 정보는 보험사에서 보험금을 지급할 때 참고로 사용되기 때문입니다.\\n2.  **보험계약의 내용 확인** : 보험계약서를 철저히 읽고 이해하여야 합니다. 계약내용이 정상적인지' additional_kwargs={} response_metadata={'model': 'llama3.1', 'created_at': '2024-10-28T10:03:19.77176266Z', 'message': {'role': 'assistant', 'content': ''}, 'done_reason': 'length', 'done': True, 'total_duration': 9390268569, 'load_duration': 5872816521, 'prompt_eval_count': 20, 'prompt_eval_duration': 76659000, 'eval_count': 100, 'eval_duration': 3398260000} id='run-5352204d-a7c0-44e1-83a4-ef9ce56abad7-0' usage_metadata={'input_tokens': 20, 'output_tokens': 100, 'total_tokens': 120}\n"
     ]
    }
   ],
   "source": [
    "# 5. llm 모델 로드 (용태 beomi/Llama-3-Open-Ko-8B와 비슷한 모델인 듯, 이것도 8B) \n",
    "from langchain_ollama import ChatOllama\n",
    "llm = ChatOllama(\n",
    "    model=\"llama3.1\",\n",
    "    temperature=0.7,\n",
    "    num_predict=100,\n",
    "    base_url=\"http://localhost:11434\")\n",
    "\n",
    "response = llm.invoke(\"보험 가입 시 유의사항이 있을까?\")\n",
    "print(f\"LLM 응답: {response}\")"
   ]
  },
  {
   "cell_type": "code",
   "execution_count": 30,
   "metadata": {},
   "outputs": [
    {
     "name": "stdout",
     "output_type": "stream",
     "text": [
      "{'input': '전기자동차 충전 중 사고 보상 특별약관에 대해 설명해줘', 'context': [Document(metadata={'source': '/home/minhai/2024-2-DSCD-Synnovation-3/보험자료/한화업무용자동차보험.pdf', 'page': 72}, page_content='니다.(전기자동차에 장착된 보조배터리 제외)\\n제3조(준용규정) 이 특별약관에서 정하지 않은 사항은 보통약관에 따릅니다.\\n\\U000f02ba\\U000f02c6 전기자동차 충전 중 사고 보상 특별약관\\n제1조(적용대상) 이 특별약관은 피보험자동차가 전기자동차로서 보통약관의 ｢자기신체사고｣, \\n｢자동차상해 특별약관｣, ｢차량단독사고 손해보상 특별약관｣을 가입하고 ｢전기자동차 충전 중 \\n사고 보상 특별약관｣을 가입한 경우에 적용됩니다.\\n용어풀이\\n이 특별약관에서 전기자동차라 함은 사용연료의 종류가 전기인 자동차로서 ｢환경친화적자동차의 개발 및 보급\\n촉진에 관한 법률｣ 제2조 제3호에 따른 전기자동차를 말합니다.\\n제2조(보상내용) 보험회사는 피보험자가 정격의 전기자동차 충전설비를 이용하여 피보험자동차\\n를 충전하던 중 발생한 사고에 대하여 이 특별약관에서 정하는 바에 따라 보상하여 드립니다.\\n  ① 피보험자가 가입한 보통약관의 ｢자기신체사고｣, ｢자동차상해 특별약관｣에 따라 다음 각 \\n호의 사고에 대하여 보상하여 드립니다.'), Document(metadata={'source': '/home/minhai/2024-2-DSCD-Synnovation-3/보험자료/한화업무용자동차보험.pdf', 'page': 72}, page_content='호의 사고에 대하여 보상하여 드립니다. \\n  1. 피보험자가 피보험자동차의 화재 또는 폭발 사고의 직접적인 결과로 상해를 입은 때\\n  2. 피보험자가 피보험자동차의 충전 중 감전 사고로 죽거나 치료를 요하는 상해를 입은 때\\n  ② ｢차량단독사고 손해보상 특별약관｣에 가입한 경우 해당 특약의 제4조 보상하지 않는 손\\n해에도 불구하고 피보험자동차의 중요한 부분의 전기적 손해에 한하여 ｢차량단독사고 손해보\\n상 특별약관｣에 따라 보상하여 드립니다.\\n용어풀이\\n① 이 특별약관에서 전기자동차 충전설비라 함은 해당 전기자동차의 정격의 휴대용 충전기(또는 가정용 충전기\\n기 및 장치), 거주지 혹은 공공장소 등에 설치된 전기자동차 전용 완속충전기 및 급속충전기를 말합니다.\\n② 이 특별약관에서 피보험자동차를 충전하던 중이라 함은 피보험자동차의 충전을 위하여 충전설비를 조작한 \\n시점부터 충전 완료까지의 과정을 말합니다.'), Document(metadata={'source': '/home/minhai/2024-2-DSCD-Synnovation-3/보험자료/한화업무용자동차보험.pdf', 'page': 72}, page_content='52 ∙ 한화업무용자동차보험\\n용어풀이\\n이 특별약관에서 전기자동차라 함은 사용연료의 종류가 전기인 자동차로서 ｢환경친화적자동차의 개발 및 보급\\n촉진에 관한 법률｣ 제2조 제3호에 따른 전기자동차를 말합니다.\\n제2조(보상내용) 보험회사는 보통약관 ｢자기차량손해｣ 또는 『차량단독사고 손해보상 특별약\\n관』에서 규정한 사고로 보험금이 지급되는 경우로 피보험자동차의 구동용 배터리가 파손되\\n어 수리 또는 부분교체를 통한 활용이 불가능하여 부득이 구동용 배터리 전부를 새 배터리로 \\n교체하는 경우 이 특별약관이 정하는 바에 따라 보험금을 지급합니다. 다만, 새 배터리를 포\\n함한 수리비용이 보험가액보다 많은 경우에는 보험가액을 한도로 보상합니다.\\n지급보험금 = 새 배터리의 가액 - 감가상각 적용 후 새 \\n배터리의 가액\\n용어풀이\\n이 특별약관에서 구동용 배터리라 함은 전기자동차에 장착되어 구동 모터에 전기를 공급해주는 배터리를 말합\\n니다.(전기자동차에 장착된 보조배터리 제외)')], 'answer': '전기자동차 충전 중 사고 보상 특별약관은 다음과 같이 정의됩니다.\\n\\n이 특별약관은 피보험자동차가 전기자동차이고, 보통약관의 자기신체사고, 자동차상해 특별약관, 차량단독사고 손해보상 특별약관을 가입했으며, 전기자동차 충전 중 사고 보상 특별약관을 가입한 경우에 적용됩니다.\\n\\n특별약관에서 정의'}\n"
     ]
    }
   ],
   "source": [
    "# 6. llm + rag 파이프라인 구성\n",
    "from langchain import hub\n",
    "from langchain_core.prompts import ChatPromptTemplate\n",
    "from langchain.chains import create_retrieval_chain\n",
    "from langchain.chains.combine_documents import create_stuff_documents_chain\n",
    "\n",
    "\n",
    "# LLM 초기화\n",
    "llm = ChatOllama(model=\"llama3.1\", \n",
    "                 temperature=0.8,\n",
    "                 num_predict=100)\n",
    "\n",
    "\n",
    "# 프롬프트 작성\n",
    "retrieval_qa_chat_prompt = ChatPromptTemplate.from_template(\"\"\"\n",
    "다음 컨텍스트를 바탕으로 질문에 답변해주세요. 컨텍스트에 관련 정보가 없다면, \n",
    "\"주어진 정보로는 답변할 수 없습니다.\"라고 말씀해 주세요.\n",
    "\n",
    "컨텍스트: {context}\n",
    "\n",
    "질문: {input}\n",
    "\n",
    "답변:\n",
    "\"\"\")\n",
    "\n",
    "\n",
    "# 체인 생성\n",
    "combine_docs_chain = create_stuff_documents_chain(llm, retrieval_qa_chat_prompt)\n",
    "rag_chain = create_retrieval_chain(retriever, combine_docs_chain)\n",
    "\n",
    "# 체인 실행\n",
    "query = \"전기자동차 충전 중 사고 보상 특별약관에 대해 설명해줘\"\n",
    "response = rag_chain.invoke({\"input\": query})\n",
    "print(response)"
   ]
  },
  {
   "cell_type": "code",
   "execution_count": 32,
   "metadata": {},
   "outputs": [
    {
     "data": {
      "text/plain": [
       "dict_keys(['input', 'context', 'answer'])"
      ]
     },
     "execution_count": 32,
     "metadata": {},
     "output_type": "execute_result"
    }
   ],
   "source": [
    "# 응답 객체의 키 확인\n",
    "response.keys()"
   ]
  },
  {
   "cell_type": "code",
   "execution_count": 31,
   "metadata": {},
   "outputs": [
    {
     "data": {
      "text/plain": [
       "'전기자동차 충전 중 사고 보상 특별약관은 다음과 같이 정의됩니다.\\n\\n이 특별약관은 피보험자동차가 전기자동차이고, 보통약관의 자기신체사고, 자동차상해 특별약관, 차량단독사고 손해보상 특별약관을 가입했으며, 전기자동차 충전 중 사고 보상 특별약관을 가입한 경우에 적용됩니다.\\n\\n특별약관에서 정의'"
      ]
     },
     "execution_count": 31,
     "metadata": {},
     "output_type": "execute_result"
    }
   ],
   "source": [
    "response[\"answer\"]"
   ]
  }
 ],
 "metadata": {
  "kernelspec": {
   "display_name": ".venv",
   "language": "python",
   "name": "python3"
  },
  "language_info": {
   "codemirror_mode": {
    "name": "ipython",
    "version": 3
   },
   "file_extension": ".py",
   "mimetype": "text/x-python",
   "name": "python",
   "nbconvert_exporter": "python",
   "pygments_lexer": "ipython3",
   "version": "3.10.12"
  }
 },
 "nbformat": 4,
 "nbformat_minor": 2
}
